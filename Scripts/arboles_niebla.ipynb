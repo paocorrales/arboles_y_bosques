{
 "cells": [
  {
   "cell_type": "markdown",
   "id": "0601f69e",
   "metadata": {},
   "source": [
    "# Arboles de decisión\n",
    "\n",
    "Esta notebook presenta un ejemplo de uso de árboles de decisión utilizando datos meteorológicos de la estación meteorológica en Ezeiza. En particular buscaremos predecir la ocurrencia de **niebla** definida como una disminución de la visibilidad menor o igual a 1 km. \n",
    "\n",
    "## Datos\n",
    "\n",
    "Los datos correspondientes a la estación Ezeiza corresponden a mediciones horarias desde 1979 de:\n",
    "\n",
    "| Nombre      | Descripción |\n",
    "| :-          | :-|\n",
    "|`dates`      | fecha y hora (ymdhm)|\n",
    "|`temperature`| temperatura en grados centígrados|\n",
    "|`dewpoint`   | temperatura de punto de rocío en grados centígrados|\n",
    "|`windspeed`  | velocidad del viento en km/h|\n",
    "|`winddir`    | dirección del viento en grados (99.0 identifica la calma)|\n",
    "|`vis`        | visibilidad en km|\n",
    "|`rh`         | humedad relativa entre 0 y 1|\n",
    "|`pressure`   | presión en hPa|\n",
    "|`undef`      | valores faltantes|"
   ]
  },
  {
   "cell_type": "code",
   "execution_count": 128,
   "id": "90b4c38f",
   "metadata": {},
   "outputs": [],
   "source": [
    "import SynopDataModule as SDM # para la lectura de los datos\n",
    "import numpy as np\n",
    "import pandas as pd\n",
    "from pathlib import Path\n",
    "\n",
    "from sklearn.tree import DecisionTreeClassifier\n",
    "from sklearn import tree\n",
    "from sklearn.tree import export_graphviz\n",
    "from graphviz import Source\n",
    "\n",
    "# para guardar figuras de los arboles \n",
    "IMAGES_PATH = Path() / \"images\" / \"decision_trees\"\n",
    "IMAGES_PATH.mkdir(parents=True, exist_ok=True)\n",
    "\n",
    "def save_fig(fig_id, tight_layout=True, fig_extension=\"png\", resolution=300):\n",
    "    path = IMAGES_PATH / f\"{fig_id}.{fig_extension}\"\n",
    "    if tight_layout:\n",
    "        plt.tight_layout()\n",
    "    plt.savefig(path, format=fig_extension, dpi=resolution)"
   ]
  },
  {
   "cell_type": "markdown",
   "id": "c74ee16f",
   "metadata": {},
   "source": [
    "`data` es un diccionario que incluye 'dates', 'temperature', 'dewpoint', 'windspeed', 'winddir', 'vis', 'rh', 'pressure', 'undef' (`data.keys()`). "
   ]
  },
  {
   "cell_type": "code",
   "execution_count": 122,
   "id": "a76e13e0",
   "metadata": {},
   "outputs": [],
   "source": [
    "data = SDM.read_raw_data(\"../Datos/EXP_133453_HORA.txt\")"
   ]
  },
  {
   "cell_type": "markdown",
   "id": "55475aae",
   "metadata": {},
   "source": [
    "## Classificación\n",
    "\n",
    "Generamos la variable target o predictando `niebla` dicotomisando la variable `vis`. Definimos niebla como visbilidad igual o menor a 1 km (`vis <= 1`), por lo tanto en nuestra variable `niebla = 1` corresponderá a un evento de niebla, `niebla = 0` será un evento de no niebla.\n",
    "\n",
    "Al calcular el porcentaje de casos de niebla respecto del total de datos, vemos que los casos niebla/no niebla están muy desvalanceados. Esto puede generar un sesgo en nuestro modelo hacia los casos de no niebla, subestimando los casos de niebla. "
   ]
  },
  {
   "cell_type": "code",
   "execution_count": 123,
   "id": "95001a3e",
   "metadata": {},
   "outputs": [
    {
     "name": "stdout",
     "output_type": "stream",
     "text": [
      "Porcentaje de casos de niebla: 5.908297083020626\n"
     ]
    }
   ],
   "source": [
    "data[\"niebla\"] = (data[\"vis\"] <= 1.).astype(int)\n",
    "\n",
    "porcentaje_niebla = np.mean(data[\"niebla\"])\n",
    "print(\"Porcentaje de casos de niebla:\", porcentaje_niebla*100)"
   ]
  },
  {
   "cell_type": "markdown",
   "id": "f0edf9ef",
   "metadata": {},
   "source": [
    "## Predictores\n",
    "\n",
    "Si bien se pueden hacer pruebas para definir la mejor combinación de predictores, inicialmente usaremos lo que sabemos sobre nieblas para definir los predictores. En este caso serán:\n",
    "\n",
    "* velocidad del viento -- poco o cero viento debería ayudar a la generación de niebla\n",
    "* humedad relativa -- valores cercanos a 100% de humedad deberían estar asociados a niebla \n",
    "* hora del día -- de acuerdo a la climatología, los eventos de niebla se dan a la noche y madrugada"
   ]
  },
  {
   "cell_type": "code",
   "execution_count": 124,
   "id": "330493d0",
   "metadata": {},
   "outputs": [
    {
     "data": {
      "text/html": [
       "<style>#sk-container-id-1 {color: black;background-color: white;}#sk-container-id-1 pre{padding: 0;}#sk-container-id-1 div.sk-toggleable {background-color: white;}#sk-container-id-1 label.sk-toggleable__label {cursor: pointer;display: block;width: 100%;margin-bottom: 0;padding: 0.3em;box-sizing: border-box;text-align: center;}#sk-container-id-1 label.sk-toggleable__label-arrow:before {content: \"▸\";float: left;margin-right: 0.25em;color: #696969;}#sk-container-id-1 label.sk-toggleable__label-arrow:hover:before {color: black;}#sk-container-id-1 div.sk-estimator:hover label.sk-toggleable__label-arrow:before {color: black;}#sk-container-id-1 div.sk-toggleable__content {max-height: 0;max-width: 0;overflow: hidden;text-align: left;background-color: #f0f8ff;}#sk-container-id-1 div.sk-toggleable__content pre {margin: 0.2em;color: black;border-radius: 0.25em;background-color: #f0f8ff;}#sk-container-id-1 input.sk-toggleable__control:checked~div.sk-toggleable__content {max-height: 200px;max-width: 100%;overflow: auto;}#sk-container-id-1 input.sk-toggleable__control:checked~label.sk-toggleable__label-arrow:before {content: \"▾\";}#sk-container-id-1 div.sk-estimator input.sk-toggleable__control:checked~label.sk-toggleable__label {background-color: #d4ebff;}#sk-container-id-1 div.sk-label input.sk-toggleable__control:checked~label.sk-toggleable__label {background-color: #d4ebff;}#sk-container-id-1 input.sk-hidden--visually {border: 0;clip: rect(1px 1px 1px 1px);clip: rect(1px, 1px, 1px, 1px);height: 1px;margin: -1px;overflow: hidden;padding: 0;position: absolute;width: 1px;}#sk-container-id-1 div.sk-estimator {font-family: monospace;background-color: #f0f8ff;border: 1px dotted black;border-radius: 0.25em;box-sizing: border-box;margin-bottom: 0.5em;}#sk-container-id-1 div.sk-estimator:hover {background-color: #d4ebff;}#sk-container-id-1 div.sk-parallel-item::after {content: \"\";width: 100%;border-bottom: 1px solid gray;flex-grow: 1;}#sk-container-id-1 div.sk-label:hover label.sk-toggleable__label {background-color: #d4ebff;}#sk-container-id-1 div.sk-serial::before {content: \"\";position: absolute;border-left: 1px solid gray;box-sizing: border-box;top: 0;bottom: 0;left: 50%;z-index: 0;}#sk-container-id-1 div.sk-serial {display: flex;flex-direction: column;align-items: center;background-color: white;padding-right: 0.2em;padding-left: 0.2em;position: relative;}#sk-container-id-1 div.sk-item {position: relative;z-index: 1;}#sk-container-id-1 div.sk-parallel {display: flex;align-items: stretch;justify-content: center;background-color: white;position: relative;}#sk-container-id-1 div.sk-item::before, #sk-container-id-1 div.sk-parallel-item::before {content: \"\";position: absolute;border-left: 1px solid gray;box-sizing: border-box;top: 0;bottom: 0;left: 50%;z-index: -1;}#sk-container-id-1 div.sk-parallel-item {display: flex;flex-direction: column;z-index: 1;position: relative;background-color: white;}#sk-container-id-1 div.sk-parallel-item:first-child::after {align-self: flex-end;width: 50%;}#sk-container-id-1 div.sk-parallel-item:last-child::after {align-self: flex-start;width: 50%;}#sk-container-id-1 div.sk-parallel-item:only-child::after {width: 0;}#sk-container-id-1 div.sk-dashed-wrapped {border: 1px dashed gray;margin: 0 0.4em 0.5em 0.4em;box-sizing: border-box;padding-bottom: 0.4em;background-color: white;}#sk-container-id-1 div.sk-label label {font-family: monospace;font-weight: bold;display: inline-block;line-height: 1.2em;}#sk-container-id-1 div.sk-label-container {text-align: center;}#sk-container-id-1 div.sk-container {/* jupyter's `normalize.less` sets `[hidden] { display: none; }` but bootstrap.min.css set `[hidden] { display: none !important; }` so we also need the `!important` here to be able to override the default hidden behavior on the sphinx rendered scikit-learn.org. See: https://github.com/scikit-learn/scikit-learn/issues/21755 */display: inline-block !important;position: relative;}#sk-container-id-1 div.sk-text-repr-fallback {display: none;}</style><div id=\"sk-container-id-1\" class=\"sk-top-container\"><div class=\"sk-text-repr-fallback\"><pre>DecisionTreeClassifier(max_depth=3, random_state=42)</pre><b>In a Jupyter environment, please rerun this cell to show the HTML representation or trust the notebook. <br />On GitHub, the HTML representation is unable to render, please try loading this page with nbviewer.org.</b></div><div class=\"sk-container\" hidden><div class=\"sk-item\"><div class=\"sk-estimator sk-toggleable\"><input class=\"sk-toggleable__control sk-hidden--visually\" id=\"sk-estimator-id-1\" type=\"checkbox\" checked><label for=\"sk-estimator-id-1\" class=\"sk-toggleable__label sk-toggleable__label-arrow\">DecisionTreeClassifier</label><div class=\"sk-toggleable__content\"><pre>DecisionTreeClassifier(max_depth=3, random_state=42)</pre></div></div></div></div></div>"
      ],
      "text/plain": [
       "DecisionTreeClassifier(max_depth=3, random_state=42)"
      ]
     },
     "execution_count": 124,
     "metadata": {},
     "output_type": "execute_result"
    }
   ],
   "source": [
    "# extraemos la hora del día de `dates`\n",
    "data[\"hours\"] = np.array([x.hour for x in data[\"dates\"]])\n",
    "\n",
    "predictores = [\"windspeed\", \"rh\", \"hours\"]\n",
    "\n",
    "# los datos deben estar en arrays\n",
    "x_values = np.array([data[x] for x in predictores], dtype=object).transpose()\n",
    "y_values = data[\"niebla\"]\n",
    "\n",
    "# entrenamos el arbol\n",
    "# max_depth = 3 para liminar el crecimiento del árbol (y poder visualizarlo!) \n",
    "# random_state = 42 para obtener siempre el mismo árbol\n",
    "tree_niebla = DecisionTreeClassifier(max_depth = 3, random_state = 42)\n",
    "tree_niebla.fit(x_values, y_values)\n"
   ]
  },
  {
   "cell_type": "code",
   "execution_count": 125,
   "id": "1a71418c",
   "metadata": {},
   "outputs": [
    {
     "data": {
      "image/svg+xml": [
       "<?xml version=\"1.0\" encoding=\"UTF-8\" standalone=\"no\"?>\n",
       "<!DOCTYPE svg PUBLIC \"-//W3C//DTD SVG 1.1//EN\"\n",
       " \"http://www.w3.org/Graphics/SVG/1.1/DTD/svg11.dtd\">\n",
       "<!-- Generated by graphviz version 7.1.0 (20230122.1345)\n",
       " -->\n",
       "<!-- Title: Tree Pages: 1 -->\n",
       "<svg width=\"1481pt\" height=\"433pt\"\n",
       " viewBox=\"0.00 0.00 1481.00 433.00\" xmlns=\"http://www.w3.org/2000/svg\" xmlns:xlink=\"http://www.w3.org/1999/xlink\">\n",
       "<g id=\"graph0\" class=\"graph\" transform=\"scale(1 1) rotate(0) translate(4 429)\">\n",
       "<title>Tree</title>\n",
       "<polygon fill=\"white\" stroke=\"none\" points=\"-4,4 -4,-429 1477,-429 1477,4 -4,4\"/>\n",
       "<!-- 0 -->\n",
       "<g id=\"node1\" class=\"node\">\n",
       "<title>0</title>\n",
       "<path fill=\"#e78945\" stroke=\"black\" d=\"M845.5,-425C845.5,-425 675.5,-425 675.5,-425 669.5,-425 663.5,-419 663.5,-413 663.5,-413 663.5,-354 663.5,-354 663.5,-348 669.5,-342 675.5,-342 675.5,-342 845.5,-342 845.5,-342 851.5,-342 857.5,-348 857.5,-354 857.5,-354 857.5,-413 857.5,-413 857.5,-419 851.5,-425 845.5,-425\"/>\n",
       "<text text-anchor=\"middle\" x=\"760.5\" y=\"-409.8\" font-family=\"Helvetica,sans-Serif\" font-size=\"14.00\">rh &lt;= 0.964</text>\n",
       "<text text-anchor=\"middle\" x=\"760.5\" y=\"-394.8\" font-family=\"Helvetica,sans-Serif\" font-size=\"14.00\">gini = 0.111</text>\n",
       "<text text-anchor=\"middle\" x=\"760.5\" y=\"-379.8\" font-family=\"Helvetica,sans-Serif\" font-size=\"14.00\">samples = 281147</text>\n",
       "<text text-anchor=\"middle\" x=\"760.5\" y=\"-364.8\" font-family=\"Helvetica,sans-Serif\" font-size=\"14.00\">value = [264536, 16611]</text>\n",
       "<text text-anchor=\"middle\" x=\"760.5\" y=\"-349.8\" font-family=\"Helvetica,sans-Serif\" font-size=\"14.00\">class = No niebla</text>\n",
       "</g>\n",
       "<!-- 1 -->\n",
       "<g id=\"node2\" class=\"node\">\n",
       "<title>1</title>\n",
       "<path fill=\"#e68640\" stroke=\"black\" d=\"M656,-306C656,-306 495,-306 495,-306 489,-306 483,-300 483,-294 483,-294 483,-235 483,-235 483,-229 489,-223 495,-223 495,-223 656,-223 656,-223 662,-223 668,-229 668,-235 668,-235 668,-294 668,-294 668,-300 662,-306 656,-306\"/>\n",
       "<text text-anchor=\"middle\" x=\"575.5\" y=\"-290.8\" font-family=\"Helvetica,sans-Serif\" font-size=\"14.00\">rh &lt;= 0.911</text>\n",
       "<text text-anchor=\"middle\" x=\"575.5\" y=\"-275.8\" font-family=\"Helvetica,sans-Serif\" font-size=\"14.00\">gini = 0.067</text>\n",
       "<text text-anchor=\"middle\" x=\"575.5\" y=\"-260.8\" font-family=\"Helvetica,sans-Serif\" font-size=\"14.00\">samples = 260845</text>\n",
       "<text text-anchor=\"middle\" x=\"575.5\" y=\"-245.8\" font-family=\"Helvetica,sans-Serif\" font-size=\"14.00\">value = [251819, 9026]</text>\n",
       "<text text-anchor=\"middle\" x=\"575.5\" y=\"-230.8\" font-family=\"Helvetica,sans-Serif\" font-size=\"14.00\">class = No niebla</text>\n",
       "</g>\n",
       "<!-- 0&#45;&gt;1 -->\n",
       "<g id=\"edge1\" class=\"edge\">\n",
       "<title>0&#45;&gt;1</title>\n",
       "<path fill=\"none\" stroke=\"black\" d=\"M695.8,-341.58C680.87,-332.14 664.88,-322.02 649.58,-312.35\"/>\n",
       "<polygon fill=\"black\" stroke=\"black\" points=\"651.77,-309.59 641.45,-307.21 648.03,-315.51 651.77,-309.59\"/>\n",
       "<text text-anchor=\"middle\" x=\"645.66\" y=\"-327.09\" font-family=\"Helvetica,sans-Serif\" font-size=\"14.00\">True</text>\n",
       "</g>\n",
       "<!-- 8 -->\n",
       "<g id=\"node9\" class=\"node\">\n",
       "<title>8</title>\n",
       "<path fill=\"#f5ccaf\" stroke=\"black\" d=\"M1024.5,-306C1024.5,-306 872.5,-306 872.5,-306 866.5,-306 860.5,-300 860.5,-294 860.5,-294 860.5,-235 860.5,-235 860.5,-229 866.5,-223 872.5,-223 872.5,-223 1024.5,-223 1024.5,-223 1030.5,-223 1036.5,-229 1036.5,-235 1036.5,-235 1036.5,-294 1036.5,-294 1036.5,-300 1030.5,-306 1024.5,-306\"/>\n",
       "<text text-anchor=\"middle\" x=\"948.5\" y=\"-290.8\" font-family=\"Helvetica,sans-Serif\" font-size=\"14.00\">windspeed &lt;= 3.5</text>\n",
       "<text text-anchor=\"middle\" x=\"948.5\" y=\"-275.8\" font-family=\"Helvetica,sans-Serif\" font-size=\"14.00\">gini = 0.468</text>\n",
       "<text text-anchor=\"middle\" x=\"948.5\" y=\"-260.8\" font-family=\"Helvetica,sans-Serif\" font-size=\"14.00\">samples = 20302</text>\n",
       "<text text-anchor=\"middle\" x=\"948.5\" y=\"-245.8\" font-family=\"Helvetica,sans-Serif\" font-size=\"14.00\">value = [12717, 7585]</text>\n",
       "<text text-anchor=\"middle\" x=\"948.5\" y=\"-230.8\" font-family=\"Helvetica,sans-Serif\" font-size=\"14.00\">class = No niebla</text>\n",
       "</g>\n",
       "<!-- 0&#45;&gt;8 -->\n",
       "<g id=\"edge8\" class=\"edge\">\n",
       "<title>0&#45;&gt;8</title>\n",
       "<path fill=\"none\" stroke=\"black\" d=\"M826.25,-341.58C841.42,-332.14 857.67,-322.02 873.22,-312.35\"/>\n",
       "<polygon fill=\"black\" stroke=\"black\" points=\"874.86,-315.45 881.5,-307.2 871.16,-309.51 874.86,-315.45\"/>\n",
       "<text text-anchor=\"middle\" x=\"877.12\" y=\"-327.05\" font-family=\"Helvetica,sans-Serif\" font-size=\"14.00\">False</text>\n",
       "</g>\n",
       "<!-- 2 -->\n",
       "<g id=\"node3\" class=\"node\">\n",
       "<title>2</title>\n",
       "<path fill=\"#e6843d\" stroke=\"black\" d=\"M372,-187C372,-187 211,-187 211,-187 205,-187 199,-181 199,-175 199,-175 199,-116 199,-116 199,-110 205,-104 211,-104 211,-104 372,-104 372,-104 378,-104 384,-110 384,-116 384,-116 384,-175 384,-175 384,-181 378,-187 372,-187\"/>\n",
       "<text text-anchor=\"middle\" x=\"291.5\" y=\"-171.8\" font-family=\"Helvetica,sans-Serif\" font-size=\"14.00\">rh &lt;= 0.808</text>\n",
       "<text text-anchor=\"middle\" x=\"291.5\" y=\"-156.8\" font-family=\"Helvetica,sans-Serif\" font-size=\"14.00\">gini = 0.038</text>\n",
       "<text text-anchor=\"middle\" x=\"291.5\" y=\"-141.8\" font-family=\"Helvetica,sans-Serif\" font-size=\"14.00\">samples = 221432</text>\n",
       "<text text-anchor=\"middle\" x=\"291.5\" y=\"-126.8\" font-family=\"Helvetica,sans-Serif\" font-size=\"14.00\">value = [217111, 4321]</text>\n",
       "<text text-anchor=\"middle\" x=\"291.5\" y=\"-111.8\" font-family=\"Helvetica,sans-Serif\" font-size=\"14.00\">class = No niebla</text>\n",
       "</g>\n",
       "<!-- 1&#45;&gt;2 -->\n",
       "<g id=\"edge2\" class=\"edge\">\n",
       "<title>1&#45;&gt;2</title>\n",
       "<path fill=\"none\" stroke=\"black\" d=\"M482.51,-225.19C454.41,-213.62 423.4,-200.84 394.68,-189.01\"/>\n",
       "<polygon fill=\"black\" stroke=\"black\" points=\"396.19,-185.85 385.62,-185.27 393.53,-192.32 396.19,-185.85\"/>\n",
       "</g>\n",
       "<!-- 5 -->\n",
       "<g id=\"node6\" class=\"node\">\n",
       "<title>5</title>\n",
       "<path fill=\"#e99254\" stroke=\"black\" d=\"M651.5,-187C651.5,-187 499.5,-187 499.5,-187 493.5,-187 487.5,-181 487.5,-175 487.5,-175 487.5,-116 487.5,-116 487.5,-110 493.5,-104 499.5,-104 499.5,-104 651.5,-104 651.5,-104 657.5,-104 663.5,-110 663.5,-116 663.5,-116 663.5,-175 663.5,-175 663.5,-181 657.5,-187 651.5,-187\"/>\n",
       "<text text-anchor=\"middle\" x=\"575.5\" y=\"-171.8\" font-family=\"Helvetica,sans-Serif\" font-size=\"14.00\">hours &lt;= 10.5</text>\n",
       "<text text-anchor=\"middle\" x=\"575.5\" y=\"-156.8\" font-family=\"Helvetica,sans-Serif\" font-size=\"14.00\">gini = 0.21</text>\n",
       "<text text-anchor=\"middle\" x=\"575.5\" y=\"-141.8\" font-family=\"Helvetica,sans-Serif\" font-size=\"14.00\">samples = 39413</text>\n",
       "<text text-anchor=\"middle\" x=\"575.5\" y=\"-126.8\" font-family=\"Helvetica,sans-Serif\" font-size=\"14.00\">value = [34708, 4705]</text>\n",
       "<text text-anchor=\"middle\" x=\"575.5\" y=\"-111.8\" font-family=\"Helvetica,sans-Serif\" font-size=\"14.00\">class = No niebla</text>\n",
       "</g>\n",
       "<!-- 1&#45;&gt;5 -->\n",
       "<g id=\"edge5\" class=\"edge\">\n",
       "<title>1&#45;&gt;5</title>\n",
       "<path fill=\"none\" stroke=\"black\" d=\"M575.5,-222.58C575.5,-214.79 575.5,-206.53 575.5,-198.45\"/>\n",
       "<polygon fill=\"black\" stroke=\"black\" points=\"579,-198.71 575.5,-188.71 572,-198.71 579,-198.71\"/>\n",
       "</g>\n",
       "<!-- 3 -->\n",
       "<g id=\"node4\" class=\"node\">\n",
       "<title>3</title>\n",
       "<path fill=\"#e5823b\" stroke=\"black\" d=\"M173,-68C173,-68 12,-68 12,-68 6,-68 0,-62 0,-56 0,-56 0,-12 0,-12 0,-6 6,0 12,0 12,0 173,0 173,0 179,0 185,-6 185,-12 185,-12 185,-56 185,-56 185,-62 179,-68 173,-68\"/>\n",
       "<text text-anchor=\"middle\" x=\"92.5\" y=\"-52.8\" font-family=\"Helvetica,sans-Serif\" font-size=\"14.00\">gini = 0.023</text>\n",
       "<text text-anchor=\"middle\" x=\"92.5\" y=\"-37.8\" font-family=\"Helvetica,sans-Serif\" font-size=\"14.00\">samples = 161505</text>\n",
       "<text text-anchor=\"middle\" x=\"92.5\" y=\"-22.8\" font-family=\"Helvetica,sans-Serif\" font-size=\"14.00\">value = [159643, 1862]</text>\n",
       "<text text-anchor=\"middle\" x=\"92.5\" y=\"-7.8\" font-family=\"Helvetica,sans-Serif\" font-size=\"14.00\">class = No niebla</text>\n",
       "</g>\n",
       "<!-- 2&#45;&gt;3 -->\n",
       "<g id=\"edge3\" class=\"edge\">\n",
       "<title>2&#45;&gt;3</title>\n",
       "<path fill=\"none\" stroke=\"black\" d=\"M217.12,-103.57C199.33,-93.78 180.39,-83.36 162.79,-73.68\"/>\n",
       "<polygon fill=\"black\" stroke=\"black\" points=\"164.94,-70.86 154.49,-69.11 161.56,-77 164.94,-70.86\"/>\n",
       "</g>\n",
       "<!-- 4 -->\n",
       "<g id=\"node5\" class=\"node\">\n",
       "<title>4</title>\n",
       "<path fill=\"#e68641\" stroke=\"black\" d=\"M367.5,-68C367.5,-68 215.5,-68 215.5,-68 209.5,-68 203.5,-62 203.5,-56 203.5,-56 203.5,-12 203.5,-12 203.5,-6 209.5,0 215.5,0 215.5,0 367.5,0 367.5,0 373.5,0 379.5,-6 379.5,-12 379.5,-12 379.5,-56 379.5,-56 379.5,-62 373.5,-68 367.5,-68\"/>\n",
       "<text text-anchor=\"middle\" x=\"291.5\" y=\"-52.8\" font-family=\"Helvetica,sans-Serif\" font-size=\"14.00\">gini = 0.079</text>\n",
       "<text text-anchor=\"middle\" x=\"291.5\" y=\"-37.8\" font-family=\"Helvetica,sans-Serif\" font-size=\"14.00\">samples = 59927</text>\n",
       "<text text-anchor=\"middle\" x=\"291.5\" y=\"-22.8\" font-family=\"Helvetica,sans-Serif\" font-size=\"14.00\">value = [57468, 2459]</text>\n",
       "<text text-anchor=\"middle\" x=\"291.5\" y=\"-7.8\" font-family=\"Helvetica,sans-Serif\" font-size=\"14.00\">class = No niebla</text>\n",
       "</g>\n",
       "<!-- 2&#45;&gt;4 -->\n",
       "<g id=\"edge4\" class=\"edge\">\n",
       "<title>2&#45;&gt;4</title>\n",
       "<path fill=\"none\" stroke=\"black\" d=\"M291.5,-103.73C291.5,-95.88 291.5,-87.63 291.5,-79.67\"/>\n",
       "<polygon fill=\"black\" stroke=\"black\" points=\"295,-79.81 291.5,-69.81 288,-79.81 295,-79.81\"/>\n",
       "</g>\n",
       "<!-- 6 -->\n",
       "<g id=\"node7\" class=\"node\">\n",
       "<title>6</title>\n",
       "<path fill=\"#e88e4e\" stroke=\"black\" d=\"M561.5,-68C561.5,-68 409.5,-68 409.5,-68 403.5,-68 397.5,-62 397.5,-56 397.5,-56 397.5,-12 397.5,-12 397.5,-6 403.5,0 409.5,0 409.5,0 561.5,0 561.5,0 567.5,0 573.5,-6 573.5,-12 573.5,-12 573.5,-56 573.5,-56 573.5,-62 567.5,-68 561.5,-68\"/>\n",
       "<text text-anchor=\"middle\" x=\"485.5\" y=\"-52.8\" font-family=\"Helvetica,sans-Serif\" font-size=\"14.00\">gini = 0.172</text>\n",
       "<text text-anchor=\"middle\" x=\"485.5\" y=\"-37.8\" font-family=\"Helvetica,sans-Serif\" font-size=\"14.00\">samples = 28166</text>\n",
       "<text text-anchor=\"middle\" x=\"485.5\" y=\"-22.8\" font-family=\"Helvetica,sans-Serif\" font-size=\"14.00\">value = [25498, 2668]</text>\n",
       "<text text-anchor=\"middle\" x=\"485.5\" y=\"-7.8\" font-family=\"Helvetica,sans-Serif\" font-size=\"14.00\">class = No niebla</text>\n",
       "</g>\n",
       "<!-- 5&#45;&gt;6 -->\n",
       "<g id=\"edge6\" class=\"edge\">\n",
       "<title>5&#45;&gt;6</title>\n",
       "<path fill=\"none\" stroke=\"black\" d=\"M541.99,-103.73C534.87,-95.06 527.33,-85.9 520.17,-77.18\"/>\n",
       "<polygon fill=\"black\" stroke=\"black\" points=\"522.88,-74.97 513.83,-69.47 517.48,-79.42 522.88,-74.97\"/>\n",
       "</g>\n",
       "<!-- 7 -->\n",
       "<g id=\"node8\" class=\"node\">\n",
       "<title>7</title>\n",
       "<path fill=\"#eb9d65\" stroke=\"black\" d=\"M747,-68C747,-68 604,-68 604,-68 598,-68 592,-62 592,-56 592,-56 592,-12 592,-12 592,-6 598,0 604,0 604,0 747,0 747,0 753,0 759,-6 759,-12 759,-12 759,-56 759,-56 759,-62 753,-68 747,-68\"/>\n",
       "<text text-anchor=\"middle\" x=\"675.5\" y=\"-52.8\" font-family=\"Helvetica,sans-Serif\" font-size=\"14.00\">gini = 0.297</text>\n",
       "<text text-anchor=\"middle\" x=\"675.5\" y=\"-37.8\" font-family=\"Helvetica,sans-Serif\" font-size=\"14.00\">samples = 11247</text>\n",
       "<text text-anchor=\"middle\" x=\"675.5\" y=\"-22.8\" font-family=\"Helvetica,sans-Serif\" font-size=\"14.00\">value = [9210, 2037]</text>\n",
       "<text text-anchor=\"middle\" x=\"675.5\" y=\"-7.8\" font-family=\"Helvetica,sans-Serif\" font-size=\"14.00\">class = No niebla</text>\n",
       "</g>\n",
       "<!-- 5&#45;&gt;7 -->\n",
       "<g id=\"edge7\" class=\"edge\">\n",
       "<title>5&#45;&gt;7</title>\n",
       "<path fill=\"none\" stroke=\"black\" d=\"M612.74,-103.73C620.82,-94.88 629.37,-85.51 637.48,-76.63\"/>\n",
       "<polygon fill=\"black\" stroke=\"black\" points=\"639.91,-79.16 644.07,-69.42 634.74,-74.44 639.91,-79.16\"/>\n",
       "</g>\n",
       "<!-- 9 -->\n",
       "<g id=\"node10\" class=\"node\">\n",
       "<title>9</title>\n",
       "<path fill=\"#f8fbfe\" stroke=\"black\" d=\"M1020,-187C1020,-187 877,-187 877,-187 871,-187 865,-181 865,-175 865,-175 865,-116 865,-116 865,-110 871,-104 877,-104 877,-104 1020,-104 1020,-104 1026,-104 1032,-110 1032,-116 1032,-116 1032,-175 1032,-175 1032,-181 1026,-187 1020,-187\"/>\n",
       "<text text-anchor=\"middle\" x=\"948.5\" y=\"-171.8\" font-family=\"Helvetica,sans-Serif\" font-size=\"14.00\">rh &lt;= 0.993</text>\n",
       "<text text-anchor=\"middle\" x=\"948.5\" y=\"-156.8\" font-family=\"Helvetica,sans-Serif\" font-size=\"14.00\">gini = 0.5</text>\n",
       "<text text-anchor=\"middle\" x=\"948.5\" y=\"-141.8\" font-family=\"Helvetica,sans-Serif\" font-size=\"14.00\">samples = 9252</text>\n",
       "<text text-anchor=\"middle\" x=\"948.5\" y=\"-126.8\" font-family=\"Helvetica,sans-Serif\" font-size=\"14.00\">value = [4540, 4712]</text>\n",
       "<text text-anchor=\"middle\" x=\"948.5\" y=\"-111.8\" font-family=\"Helvetica,sans-Serif\" font-size=\"14.00\">class = Niebla</text>\n",
       "</g>\n",
       "<!-- 8&#45;&gt;9 -->\n",
       "<g id=\"edge9\" class=\"edge\">\n",
       "<title>8&#45;&gt;9</title>\n",
       "<path fill=\"none\" stroke=\"black\" d=\"M948.5,-222.58C948.5,-214.79 948.5,-206.53 948.5,-198.45\"/>\n",
       "<polygon fill=\"black\" stroke=\"black\" points=\"952,-198.71 948.5,-188.71 945,-198.71 952,-198.71\"/>\n",
       "</g>\n",
       "<!-- 12 -->\n",
       "<g id=\"node13\" class=\"node\">\n",
       "<title>12</title>\n",
       "<path fill=\"#eead7f\" stroke=\"black\" d=\"M1294,-187C1294,-187 1151,-187 1151,-187 1145,-187 1139,-181 1139,-175 1139,-175 1139,-116 1139,-116 1139,-110 1145,-104 1151,-104 1151,-104 1294,-104 1294,-104 1300,-104 1306,-110 1306,-116 1306,-116 1306,-175 1306,-175 1306,-181 1300,-187 1294,-187\"/>\n",
       "<text text-anchor=\"middle\" x=\"1222.5\" y=\"-171.8\" font-family=\"Helvetica,sans-Serif\" font-size=\"14.00\">rh &lt;= 0.994</text>\n",
       "<text text-anchor=\"middle\" x=\"1222.5\" y=\"-156.8\" font-family=\"Helvetica,sans-Serif\" font-size=\"14.00\">gini = 0.385</text>\n",
       "<text text-anchor=\"middle\" x=\"1222.5\" y=\"-141.8\" font-family=\"Helvetica,sans-Serif\" font-size=\"14.00\">samples = 11050</text>\n",
       "<text text-anchor=\"middle\" x=\"1222.5\" y=\"-126.8\" font-family=\"Helvetica,sans-Serif\" font-size=\"14.00\">value = [8177, 2873]</text>\n",
       "<text text-anchor=\"middle\" x=\"1222.5\" y=\"-111.8\" font-family=\"Helvetica,sans-Serif\" font-size=\"14.00\">class = No niebla</text>\n",
       "</g>\n",
       "<!-- 8&#45;&gt;12 -->\n",
       "<g id=\"edge12\" class=\"edge\">\n",
       "<title>8&#45;&gt;12</title>\n",
       "<path fill=\"none\" stroke=\"black\" d=\"M1036.7,-225.84C1065.95,-213.35 1098.61,-199.4 1128.3,-186.73\"/>\n",
       "<polygon fill=\"black\" stroke=\"black\" points=\"1129.45,-190.04 1137.27,-182.89 1126.7,-183.6 1129.45,-190.04\"/>\n",
       "</g>\n",
       "<!-- 10 -->\n",
       "<g id=\"node11\" class=\"node\">\n",
       "<title>10</title>\n",
       "<path fill=\"#f9e1d0\" stroke=\"black\" d=\"M932,-68C932,-68 789,-68 789,-68 783,-68 777,-62 777,-56 777,-56 777,-12 777,-12 777,-6 783,0 789,0 789,0 932,0 932,0 938,0 944,-6 944,-12 944,-12 944,-56 944,-56 944,-62 938,-68 932,-68\"/>\n",
       "<text text-anchor=\"middle\" x=\"860.5\" y=\"-52.8\" font-family=\"Helvetica,sans-Serif\" font-size=\"14.00\">gini = 0.491</text>\n",
       "<text text-anchor=\"middle\" x=\"860.5\" y=\"-37.8\" font-family=\"Helvetica,sans-Serif\" font-size=\"14.00\">samples = 6838</text>\n",
       "<text text-anchor=\"middle\" x=\"860.5\" y=\"-22.8\" font-family=\"Helvetica,sans-Serif\" font-size=\"14.00\">value = [3882, 2956]</text>\n",
       "<text text-anchor=\"middle\" x=\"860.5\" y=\"-7.8\" font-family=\"Helvetica,sans-Serif\" font-size=\"14.00\">class = No niebla</text>\n",
       "</g>\n",
       "<!-- 9&#45;&gt;10 -->\n",
       "<g id=\"edge10\" class=\"edge\">\n",
       "<title>9&#45;&gt;10</title>\n",
       "<path fill=\"none\" stroke=\"black\" d=\"M915.73,-103.73C908.77,-95.06 901.4,-85.9 894.4,-77.18\"/>\n",
       "<polygon fill=\"black\" stroke=\"black\" points=\"897.2,-75.08 888.21,-69.48 891.75,-79.47 897.2,-75.08\"/>\n",
       "</g>\n",
       "<!-- 11 -->\n",
       "<g id=\"node12\" class=\"node\">\n",
       "<title>11</title>\n",
       "<path fill=\"#83c2ef\" stroke=\"black\" d=\"M1108.5,-68C1108.5,-68 974.5,-68 974.5,-68 968.5,-68 962.5,-62 962.5,-56 962.5,-56 962.5,-12 962.5,-12 962.5,-6 968.5,0 974.5,0 974.5,0 1108.5,0 1108.5,0 1114.5,0 1120.5,-6 1120.5,-12 1120.5,-12 1120.5,-56 1120.5,-56 1120.5,-62 1114.5,-68 1108.5,-68\"/>\n",
       "<text text-anchor=\"middle\" x=\"1041.5\" y=\"-52.8\" font-family=\"Helvetica,sans-Serif\" font-size=\"14.00\">gini = 0.397</text>\n",
       "<text text-anchor=\"middle\" x=\"1041.5\" y=\"-37.8\" font-family=\"Helvetica,sans-Serif\" font-size=\"14.00\">samples = 2414</text>\n",
       "<text text-anchor=\"middle\" x=\"1041.5\" y=\"-22.8\" font-family=\"Helvetica,sans-Serif\" font-size=\"14.00\">value = [658, 1756]</text>\n",
       "<text text-anchor=\"middle\" x=\"1041.5\" y=\"-7.8\" font-family=\"Helvetica,sans-Serif\" font-size=\"14.00\">class = Niebla</text>\n",
       "</g>\n",
       "<!-- 9&#45;&gt;11 -->\n",
       "<g id=\"edge11\" class=\"edge\">\n",
       "<title>9&#45;&gt;11</title>\n",
       "<path fill=\"none\" stroke=\"black\" d=\"M983.13,-103.73C990.57,-94.97 998.44,-85.7 1005.91,-76.91\"/>\n",
       "<polygon fill=\"black\" stroke=\"black\" points=\"1008.43,-79.34 1012.24,-69.45 1003.1,-74.81 1008.43,-79.34\"/>\n",
       "</g>\n",
       "<!-- 13 -->\n",
       "<g id=\"node14\" class=\"node\">\n",
       "<title>13</title>\n",
       "<path fill=\"#eda674\" stroke=\"black\" d=\"M1294,-68C1294,-68 1151,-68 1151,-68 1145,-68 1139,-62 1139,-56 1139,-56 1139,-12 1139,-12 1139,-6 1145,0 1151,0 1151,0 1294,0 1294,0 1300,0 1306,-6 1306,-12 1306,-12 1306,-56 1306,-56 1306,-62 1300,-68 1294,-68\"/>\n",
       "<text text-anchor=\"middle\" x=\"1222.5\" y=\"-52.8\" font-family=\"Helvetica,sans-Serif\" font-size=\"14.00\">gini = 0.352</text>\n",
       "<text text-anchor=\"middle\" x=\"1222.5\" y=\"-37.8\" font-family=\"Helvetica,sans-Serif\" font-size=\"14.00\">samples = 9390</text>\n",
       "<text text-anchor=\"middle\" x=\"1222.5\" y=\"-22.8\" font-family=\"Helvetica,sans-Serif\" font-size=\"14.00\">value = [7247, 2143]</text>\n",
       "<text text-anchor=\"middle\" x=\"1222.5\" y=\"-7.8\" font-family=\"Helvetica,sans-Serif\" font-size=\"14.00\">class = No niebla</text>\n",
       "</g>\n",
       "<!-- 12&#45;&gt;13 -->\n",
       "<g id=\"edge13\" class=\"edge\">\n",
       "<title>12&#45;&gt;13</title>\n",
       "<path fill=\"none\" stroke=\"black\" d=\"M1222.5,-103.73C1222.5,-95.88 1222.5,-87.63 1222.5,-79.67\"/>\n",
       "<polygon fill=\"black\" stroke=\"black\" points=\"1226,-79.81 1222.5,-69.81 1219,-79.81 1226,-79.81\"/>\n",
       "</g>\n",
       "<!-- 14 -->\n",
       "<g id=\"node15\" class=\"node\">\n",
       "<title>14</title>\n",
       "<path fill=\"#f9e4d4\" stroke=\"black\" d=\"M1461,-68C1461,-68 1336,-68 1336,-68 1330,-68 1324,-62 1324,-56 1324,-56 1324,-12 1324,-12 1324,-6 1330,0 1336,0 1336,0 1461,0 1461,0 1467,0 1473,-6 1473,-12 1473,-12 1473,-56 1473,-56 1473,-62 1467,-68 1461,-68\"/>\n",
       "<text text-anchor=\"middle\" x=\"1398.5\" y=\"-52.8\" font-family=\"Helvetica,sans-Serif\" font-size=\"14.00\">gini = 0.493</text>\n",
       "<text text-anchor=\"middle\" x=\"1398.5\" y=\"-37.8\" font-family=\"Helvetica,sans-Serif\" font-size=\"14.00\">samples = 1660</text>\n",
       "<text text-anchor=\"middle\" x=\"1398.5\" y=\"-22.8\" font-family=\"Helvetica,sans-Serif\" font-size=\"14.00\">value = [930, 730]</text>\n",
       "<text text-anchor=\"middle\" x=\"1398.5\" y=\"-7.8\" font-family=\"Helvetica,sans-Serif\" font-size=\"14.00\">class = No niebla</text>\n",
       "</g>\n",
       "<!-- 12&#45;&gt;14 -->\n",
       "<g id=\"edge14\" class=\"edge\">\n",
       "<title>12&#45;&gt;14</title>\n",
       "<path fill=\"none\" stroke=\"black\" d=\"M1288.29,-103.57C1303.73,-93.96 1320.15,-83.75 1335.47,-74.22\"/>\n",
       "<polygon fill=\"black\" stroke=\"black\" points=\"1336.92,-77.43 1343.56,-69.18 1333.22,-71.49 1336.92,-77.43\"/>\n",
       "</g>\n",
       "</g>\n",
       "</svg>\n"
      ],
      "text/plain": [
       "<graphviz.sources.Source at 0x7fa9160ff4c0>"
      ]
     },
     "execution_count": 125,
     "metadata": {},
     "output_type": "execute_result"
    }
   ],
   "source": [
    "# también tree.plot_tree(tree_niebla)\n",
    "\n",
    "export_graphviz(\n",
    "        tree_niebla,\n",
    "        out_file = str(IMAGES_PATH / \"iris_tree.dot\"),  \n",
    "        feature_names = predictores,\n",
    "        class_names = [\"No niebla\", \"Niebla\"],\n",
    "        rounded = True,\n",
    "        filled = True\n",
    ")\n",
    "\n",
    "Source.from_file(IMAGES_PATH / \"iris_tree.dot\")"
   ]
  },
  {
   "cell_type": "markdown",
   "id": "ac9b392e",
   "metadata": {},
   "source": [
    "## Predicciones\n",
    "\n",
    "Con este primer árbol podemos hacer predicciones. Por ejemplo, si tenemos la velocidad del viento (1 km/h) y humedad relativa (99.9%) pronosticada para las 6 AM podemos intentar predecir la ocurrencia de niebla con nuestro árbol.\n",
    "\n",
    "Recordemos que 1 = niebla"
   ]
  },
  {
   "cell_type": "code",
   "execution_count": 132,
   "id": "9faa8233",
   "metadata": {},
   "outputs": [
    {
     "data": {
      "text/plain": [
       "array([1])"
      ]
     },
     "execution_count": 132,
     "metadata": {},
     "output_type": "execute_result"
    }
   ],
   "source": [
    "tree_niebla.predict([[1., 0.999, 6]])"
   ]
  },
  {
   "cell_type": "markdown",
   "id": "f0e40e06",
   "metadata": {},
   "source": [
    "Sin embargo, es importante evaluar la precisión del modelo. Una posibilidad es comparar los valores predichos por el árbol con los valores observados. Podemos utilizar una tabla o matriz de contingencia para calcular las frecuencias relativas de los eventos.\n",
    "\n",
    "![](https://www.westgard.com/images/stories/2020-contingency-table-spanish-1.jpg)\n",
    "\n",
    "* verdaderos negativos: no se pronosticó niebla y no ocurrió\n",
    "* falsos negativos o sorpresas: no se pronosticó niebla pero se observó\n",
    "* verdaderos positivos: se pronosticó niebla y ocurrió\n",
    "* falsos positivos o alarma: se pronosticó niebla pero no se observó"
   ]
  },
  {
   "cell_type": "code",
   "execution_count": 141,
   "id": "eab360a9",
   "metadata": {},
   "outputs": [
    {
     "data": {
      "text/html": [
       "<div>\n",
       "<style scoped>\n",
       "    .dataframe tbody tr th:only-of-type {\n",
       "        vertical-align: middle;\n",
       "    }\n",
       "\n",
       "    .dataframe tbody tr th {\n",
       "        vertical-align: top;\n",
       "    }\n",
       "\n",
       "    .dataframe thead th {\n",
       "        text-align: right;\n",
       "    }\n",
       "</style>\n",
       "<table border=\"1\" class=\"dataframe\">\n",
       "  <thead>\n",
       "    <tr style=\"text-align: right;\">\n",
       "      <th>Obs</th>\n",
       "      <th>0</th>\n",
       "      <th>1</th>\n",
       "    </tr>\n",
       "    <tr>\n",
       "      <th>Pred</th>\n",
       "      <th></th>\n",
       "      <th></th>\n",
       "    </tr>\n",
       "  </thead>\n",
       "  <tbody>\n",
       "    <tr>\n",
       "      <th>0</th>\n",
       "      <td>0.938577</td>\n",
       "      <td>0.052837</td>\n",
       "    </tr>\n",
       "    <tr>\n",
       "      <th>1</th>\n",
       "      <td>0.002340</td>\n",
       "      <td>0.006246</td>\n",
       "    </tr>\n",
       "  </tbody>\n",
       "</table>\n",
       "</div>"
      ],
      "text/plain": [
       "Obs          0         1\n",
       "Pred                    \n",
       "0     0.938577  0.052837\n",
       "1     0.002340  0.006246"
      ]
     },
     "execution_count": 141,
     "metadata": {},
     "output_type": "execute_result"
    }
   ],
   "source": [
    "niebla_pred = tree_niebla.predict(pred_values)\n",
    "\n",
    "pd.crosstab(niebla_pred, y_values, rownames = [\"Pred\"], colnames = [\"Obs\"], margins = True)\n",
    "# expresado como porcentaje respecto del total\n",
    "pd.crosstab(niebla_pred, y_values, rownames = [\"Pred\"], colnames = [\"Obs\"], normalize = \"all\")"
   ]
  },
  {
   "cell_type": "markdown",
   "id": "37e6d418",
   "metadata": {},
   "source": [
    "Cómo era de esperarse el modelo está muy sesgado hacia los eventos de no niebla (casi 94% de los casos) con un 5% de sospresas (subestima la ocurrencia de niebla). \n",
    "\n",
    "Otra manera de evaluar nuestro modelo es calculando el score o precisión media:"
   ]
  },
  {
   "cell_type": "code",
   "execution_count": 142,
   "id": "b5c77b11",
   "metadata": {},
   "outputs": [
    {
     "data": {
      "text/plain": [
       "0.9448224594251405"
      ]
     },
     "execution_count": 142,
     "metadata": {},
     "output_type": "execute_result"
    }
   ],
   "source": [
    "tree_niebla.score(x_values, y_values)"
   ]
  },
  {
   "cell_type": "markdown",
   "id": "43f88969",
   "metadata": {},
   "source": [
    "## Balancenado clases\n",
    "\n",
    "Una manera de resolver el desbalance entre los eventos de no niebla y niebla es asignando pesos a cada clase (`niebla = 1`, `no niebla = 0`). Estos pesos se pueden asignar manualmente o automaticamente usando `class_weight = \"balanced\"`. En este último caso el peso de una clase es inversamente proporcional a su frecuencia:\n",
    "\n",
    "`n_samples / (n_classes * np.bincount(y))`"
   ]
  },
  {
   "cell_type": "code",
   "execution_count": 146,
   "id": "610a66bd",
   "metadata": {},
   "outputs": [
    {
     "data": {
      "text/html": [
       "<div>\n",
       "<style scoped>\n",
       "    .dataframe tbody tr th:only-of-type {\n",
       "        vertical-align: middle;\n",
       "    }\n",
       "\n",
       "    .dataframe tbody tr th {\n",
       "        vertical-align: top;\n",
       "    }\n",
       "\n",
       "    .dataframe thead th {\n",
       "        text-align: right;\n",
       "    }\n",
       "</style>\n",
       "<table border=\"1\" class=\"dataframe\">\n",
       "  <thead>\n",
       "    <tr style=\"text-align: right;\">\n",
       "      <th>Obs</th>\n",
       "      <th>0</th>\n",
       "      <th>1</th>\n",
       "    </tr>\n",
       "    <tr>\n",
       "      <th>Pred</th>\n",
       "      <th></th>\n",
       "      <th></th>\n",
       "    </tr>\n",
       "  </thead>\n",
       "  <tbody>\n",
       "    <tr>\n",
       "      <th>0</th>\n",
       "      <td>0.750661</td>\n",
       "      <td>0.013890</td>\n",
       "    </tr>\n",
       "    <tr>\n",
       "      <th>1</th>\n",
       "      <td>0.190256</td>\n",
       "      <td>0.045193</td>\n",
       "    </tr>\n",
       "  </tbody>\n",
       "</table>\n",
       "</div>"
      ],
      "text/plain": [
       "Obs          0         1\n",
       "Pred                    \n",
       "0     0.750661  0.013890\n",
       "1     0.190256  0.045193"
      ]
     },
     "execution_count": 146,
     "metadata": {},
     "output_type": "execute_result"
    }
   ],
   "source": [
    "tree_niebla_bal = DecisionTreeClassifier(max_depth = 3, random_state = 42, class_weight = \"balanced\")\n",
    "tree_niebla_bal.fit(x_values, y_values)\n",
    "\n",
    "pd.crosstab(tree_niebla_bal.predict(pred_values), y_values, \n",
    "            rownames = [\"Pred\"], colnames = [\"Obs\"], normalize = \"all\")"
   ]
  },
  {
   "cell_type": "markdown",
   "id": "2989a737",
   "metadata": {},
   "source": [
    "En este caso, si bien el porcentaje de falsos positivos (alarmas) aumenta de 0.2% a 19% también aumentan el porcentaje de aciertos de ocurrencia de niebla de 0.6% a 4.5% y disminuyen las sorpresas. El aumento de las alarmas podría interpretarse como perjudicial pero cuando se trata de pronosticar eventos asociados a un impacto muy grade, tal vez sea preferible a tener muchas sorpresas. "
   ]
  }
 ],
 "metadata": {
  "kernelspec": {
   "display_name": "Python 3 (ipykernel)",
   "language": "python",
   "name": "python3"
  },
  "language_info": {
   "codemirror_mode": {
    "name": "ipython",
    "version": 3
   },
   "file_extension": ".py",
   "mimetype": "text/x-python",
   "name": "python",
   "nbconvert_exporter": "python",
   "pygments_lexer": "ipython3",
   "version": "3.10.8"
  }
 },
 "nbformat": 4,
 "nbformat_minor": 5
}
