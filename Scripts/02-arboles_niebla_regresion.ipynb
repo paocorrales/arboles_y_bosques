{
 "cells": [
  {
   "cell_type": "markdown",
   "id": "04621eca",
   "metadata": {},
   "source": [
    "# Árboles de desición\n",
    "  \n",
    "Ésta notebook continua los ejemplos de árboles de desión utilizando datos meteorológicos de la estación meteorológica en Ezeiza. En este caso buscaremos estimar la visibilidad con un modelo de regresión.\n",
    "\n",
    "`data` es un diccionario que incluye 'dates', 'temperature', 'dewpoint', 'windspeed', 'winddir', 'vis', 'rh', 'pressure', 'undef' (`data.keys()`). "
   ]
  },
  {
   "cell_type": "code",
   "execution_count": 1,
   "id": "bcdcd347",
   "metadata": {},
   "outputs": [],
   "source": [
    "import SynopDataModule as SDM # para la lectura de los datos\n",
    "import numpy as np\n",
    "import matplotlib.pyplot as plt\n",
    "from pathlib import Path\n",
    "\n",
    "\n",
    "from sklearn.tree import DecisionTreeRegressor\n",
    "from sklearn.model_selection import train_test_split\n",
    "from sklearn.tree import export_graphviz\n",
    "from graphviz import Source\n",
    "\n",
    "# para guardar figuras de los arboles \n",
    "IMAGES_PATH = Path() / \"images\" / \"decision_trees\"\n",
    "IMAGES_PATH.mkdir(parents=True, exist_ok=True)\n",
    "\n",
    "# Lectura de los datos\n",
    "data = SDM.read_raw_data(\"../Datos/EXP_133453_HORA.txt\")"
   ]
  },
  {
   "cell_type": "markdown",
   "id": "831ef2f9",
   "metadata": {},
   "source": [
    "## Regresión\n",
    "\n",
    "Para arrancar usamos un solo predictor:\n",
    "\n",
    "* humedad relativa -- valores cercanos a 100% de humedad deberían estar asociados a niebla \n",
    "\n",
    "Pero en este caso, intentaremos estimar el valor de visibilidad (`vis`). \n",
    "\n",
    "Cómo antes dividimos los datos en `train` y `test. "
   ]
  },
  {
   "cell_type": "code",
   "execution_count": 2,
   "id": "6fcfe504",
   "metadata": {},
   "outputs": [],
   "source": [
    "# filtro datos faltantes\n",
    "not_missing = np.logical_and(data[\"rh\"] != data[\"undef\"], \n",
    "                             data[\"vis\"] != data[\"undef\"])\n",
    "\n",
    "predictores = [\"rh\"]\n",
    "\n",
    "# los datos deben estar en arrays\n",
    "x_values = np.array([data[x][not_missing] for x in predictores], dtype=object).transpose()\n",
    "y_values = data[\"vis\"][not_missing]\n",
    "\n",
    "# separamos los datos en entrenamiento (train) y testeo (testeo)\n",
    "x_train, x_test, y_train, y_test = train_test_split(x_values, y_values,\n",
    "                                                    test_size = 0.2,\n",
    "                                                    random_state = 42)"
   ]
  },
  {
   "cell_type": "code",
   "execution_count": 3,
   "id": "989164c2",
   "metadata": {},
   "outputs": [
    {
     "data": {
      "text/html": [
       "<style>#sk-container-id-1 {color: black;background-color: white;}#sk-container-id-1 pre{padding: 0;}#sk-container-id-1 div.sk-toggleable {background-color: white;}#sk-container-id-1 label.sk-toggleable__label {cursor: pointer;display: block;width: 100%;margin-bottom: 0;padding: 0.3em;box-sizing: border-box;text-align: center;}#sk-container-id-1 label.sk-toggleable__label-arrow:before {content: \"▸\";float: left;margin-right: 0.25em;color: #696969;}#sk-container-id-1 label.sk-toggleable__label-arrow:hover:before {color: black;}#sk-container-id-1 div.sk-estimator:hover label.sk-toggleable__label-arrow:before {color: black;}#sk-container-id-1 div.sk-toggleable__content {max-height: 0;max-width: 0;overflow: hidden;text-align: left;background-color: #f0f8ff;}#sk-container-id-1 div.sk-toggleable__content pre {margin: 0.2em;color: black;border-radius: 0.25em;background-color: #f0f8ff;}#sk-container-id-1 input.sk-toggleable__control:checked~div.sk-toggleable__content {max-height: 200px;max-width: 100%;overflow: auto;}#sk-container-id-1 input.sk-toggleable__control:checked~label.sk-toggleable__label-arrow:before {content: \"▾\";}#sk-container-id-1 div.sk-estimator input.sk-toggleable__control:checked~label.sk-toggleable__label {background-color: #d4ebff;}#sk-container-id-1 div.sk-label input.sk-toggleable__control:checked~label.sk-toggleable__label {background-color: #d4ebff;}#sk-container-id-1 input.sk-hidden--visually {border: 0;clip: rect(1px 1px 1px 1px);clip: rect(1px, 1px, 1px, 1px);height: 1px;margin: -1px;overflow: hidden;padding: 0;position: absolute;width: 1px;}#sk-container-id-1 div.sk-estimator {font-family: monospace;background-color: #f0f8ff;border: 1px dotted black;border-radius: 0.25em;box-sizing: border-box;margin-bottom: 0.5em;}#sk-container-id-1 div.sk-estimator:hover {background-color: #d4ebff;}#sk-container-id-1 div.sk-parallel-item::after {content: \"\";width: 100%;border-bottom: 1px solid gray;flex-grow: 1;}#sk-container-id-1 div.sk-label:hover label.sk-toggleable__label {background-color: #d4ebff;}#sk-container-id-1 div.sk-serial::before {content: \"\";position: absolute;border-left: 1px solid gray;box-sizing: border-box;top: 0;bottom: 0;left: 50%;z-index: 0;}#sk-container-id-1 div.sk-serial {display: flex;flex-direction: column;align-items: center;background-color: white;padding-right: 0.2em;padding-left: 0.2em;position: relative;}#sk-container-id-1 div.sk-item {position: relative;z-index: 1;}#sk-container-id-1 div.sk-parallel {display: flex;align-items: stretch;justify-content: center;background-color: white;position: relative;}#sk-container-id-1 div.sk-item::before, #sk-container-id-1 div.sk-parallel-item::before {content: \"\";position: absolute;border-left: 1px solid gray;box-sizing: border-box;top: 0;bottom: 0;left: 50%;z-index: -1;}#sk-container-id-1 div.sk-parallel-item {display: flex;flex-direction: column;z-index: 1;position: relative;background-color: white;}#sk-container-id-1 div.sk-parallel-item:first-child::after {align-self: flex-end;width: 50%;}#sk-container-id-1 div.sk-parallel-item:last-child::after {align-self: flex-start;width: 50%;}#sk-container-id-1 div.sk-parallel-item:only-child::after {width: 0;}#sk-container-id-1 div.sk-dashed-wrapped {border: 1px dashed gray;margin: 0 0.4em 0.5em 0.4em;box-sizing: border-box;padding-bottom: 0.4em;background-color: white;}#sk-container-id-1 div.sk-label label {font-family: monospace;font-weight: bold;display: inline-block;line-height: 1.2em;}#sk-container-id-1 div.sk-label-container {text-align: center;}#sk-container-id-1 div.sk-container {/* jupyter's `normalize.less` sets `[hidden] { display: none; }` but bootstrap.min.css set `[hidden] { display: none !important; }` so we also need the `!important` here to be able to override the default hidden behavior on the sphinx rendered scikit-learn.org. See: https://github.com/scikit-learn/scikit-learn/issues/21755 */display: inline-block !important;position: relative;}#sk-container-id-1 div.sk-text-repr-fallback {display: none;}</style><div id=\"sk-container-id-1\" class=\"sk-top-container\"><div class=\"sk-text-repr-fallback\"><pre>DecisionTreeRegressor(max_depth=3, random_state=42)</pre><b>In a Jupyter environment, please rerun this cell to show the HTML representation or trust the notebook. <br />On GitHub, the HTML representation is unable to render, please try loading this page with nbviewer.org.</b></div><div class=\"sk-container\" hidden><div class=\"sk-item\"><div class=\"sk-estimator sk-toggleable\"><input class=\"sk-toggleable__control sk-hidden--visually\" id=\"sk-estimator-id-1\" type=\"checkbox\" checked><label for=\"sk-estimator-id-1\" class=\"sk-toggleable__label sk-toggleable__label-arrow\">DecisionTreeRegressor</label><div class=\"sk-toggleable__content\"><pre>DecisionTreeRegressor(max_depth=3, random_state=42)</pre></div></div></div></div></div>"
      ],
      "text/plain": [
       "DecisionTreeRegressor(max_depth=3, random_state=42)"
      ]
     },
     "execution_count": 3,
     "metadata": {},
     "output_type": "execute_result"
    }
   ],
   "source": [
    "tree_reg = DecisionTreeRegressor(max_depth = 3, random_state = 42)\n",
    "tree_reg.fit(x_train, y_train)"
   ]
  },
  {
   "cell_type": "markdown",
   "id": "77bcce70",
   "metadata": {},
   "source": [
    "El árbol tiene la siguiente pinta. Siendo `value` el valor de visibilidad predicho en cada caso y `squared_error` el error de la estimación. "
   ]
  },
  {
   "cell_type": "code",
   "execution_count": 4,
   "id": "b4f71e46",
   "metadata": {},
   "outputs": [
    {
     "data": {
      "image/svg+xml": [
       "<?xml version=\"1.0\" encoding=\"UTF-8\" standalone=\"no\"?>\n",
       "<!DOCTYPE svg PUBLIC \"-//W3C//DTD SVG 1.1//EN\"\n",
       " \"http://www.w3.org/Graphics/SVG/1.1/DTD/svg11.dtd\">\n",
       "<!-- Generated by graphviz version 7.1.0 (20230122.1345)\n",
       " -->\n",
       "<!-- Title: Tree Pages: 1 -->\n",
       "<svg width=\"1589pt\" height=\"373pt\"\n",
       " viewBox=\"0.00 0.00 1588.50 373.00\" xmlns=\"http://www.w3.org/2000/svg\" xmlns:xlink=\"http://www.w3.org/1999/xlink\">\n",
       "<g id=\"graph0\" class=\"graph\" transform=\"scale(1 1) rotate(0) translate(4 369)\">\n",
       "<title>Tree</title>\n",
       "<polygon fill=\"white\" stroke=\"none\" points=\"-4,4 -4,-369 1584.5,-369 1584.5,4 -4,4\"/>\n",
       "<!-- 0 -->\n",
       "<g id=\"node1\" class=\"node\">\n",
       "<title>0</title>\n",
       "<path fill=\"#ea9a60\" stroke=\"black\" d=\"M861.5,-365C861.5,-365 701.5,-365 701.5,-365 695.5,-365 689.5,-359 689.5,-353 689.5,-353 689.5,-309 689.5,-309 689.5,-303 695.5,-297 701.5,-297 701.5,-297 861.5,-297 861.5,-297 867.5,-297 873.5,-303 873.5,-309 873.5,-309 873.5,-353 873.5,-353 873.5,-359 867.5,-365 861.5,-365\"/>\n",
       "<text text-anchor=\"middle\" x=\"781.5\" y=\"-349.8\" font-family=\"Helvetica,sans-Serif\" font-size=\"14.00\">rh &lt;= 0.93</text>\n",
       "<text text-anchor=\"middle\" x=\"781.5\" y=\"-334.8\" font-family=\"Helvetica,sans-Serif\" font-size=\"14.00\">squared_error = 16.284</text>\n",
       "<text text-anchor=\"middle\" x=\"781.5\" y=\"-319.8\" font-family=\"Helvetica,sans-Serif\" font-size=\"14.00\">samples = 224778</text>\n",
       "<text text-anchor=\"middle\" x=\"781.5\" y=\"-304.8\" font-family=\"Helvetica,sans-Serif\" font-size=\"14.00\">value = 10.295</text>\n",
       "</g>\n",
       "<!-- 1 -->\n",
       "<g id=\"node2\" class=\"node\">\n",
       "<title>1</title>\n",
       "<path fill=\"#e88f4f\" stroke=\"black\" d=\"M659.5,-261C659.5,-261 499.5,-261 499.5,-261 493.5,-261 487.5,-255 487.5,-249 487.5,-249 487.5,-205 487.5,-205 487.5,-199 493.5,-193 499.5,-193 499.5,-193 659.5,-193 659.5,-193 665.5,-193 671.5,-199 671.5,-205 671.5,-205 671.5,-249 671.5,-249 671.5,-255 665.5,-261 659.5,-261\"/>\n",
       "<text text-anchor=\"middle\" x=\"579.5\" y=\"-245.8\" font-family=\"Helvetica,sans-Serif\" font-size=\"14.00\">rh &lt;= 0.782</text>\n",
       "<text text-anchor=\"middle\" x=\"579.5\" y=\"-230.8\" font-family=\"Helvetica,sans-Serif\" font-size=\"14.00\">squared_error = 10.388</text>\n",
       "<text text-anchor=\"middle\" x=\"579.5\" y=\"-215.8\" font-family=\"Helvetica,sans-Serif\" font-size=\"14.00\">samples = 187390</text>\n",
       "<text text-anchor=\"middle\" x=\"579.5\" y=\"-200.8\" font-family=\"Helvetica,sans-Serif\" font-size=\"14.00\">value = 11.174</text>\n",
       "</g>\n",
       "<!-- 0&#45;&gt;1 -->\n",
       "<g id=\"edge1\" class=\"edge\">\n",
       "<title>0&#45;&gt;1</title>\n",
       "<path fill=\"none\" stroke=\"black\" d=\"M715.36,-296.6C696.35,-287 675.46,-276.46 655.89,-266.57\"/>\n",
       "<polygon fill=\"black\" stroke=\"black\" points=\"657.65,-263.54 647.14,-262.16 654.49,-269.79 657.65,-263.54\"/>\n",
       "<text text-anchor=\"middle\" x=\"653.6\" y=\"-281.52\" font-family=\"Helvetica,sans-Serif\" font-size=\"14.00\">True</text>\n",
       "</g>\n",
       "<!-- 8 -->\n",
       "<g id=\"node9\" class=\"node\">\n",
       "<title>8</title>\n",
       "<path fill=\"#f6d1b7\" stroke=\"black\" d=\"M1063.5,-261C1063.5,-261 903.5,-261 903.5,-261 897.5,-261 891.5,-255 891.5,-249 891.5,-249 891.5,-205 891.5,-205 891.5,-199 897.5,-193 903.5,-193 903.5,-193 1063.5,-193 1063.5,-193 1069.5,-193 1075.5,-199 1075.5,-205 1075.5,-205 1075.5,-249 1075.5,-249 1075.5,-255 1069.5,-261 1063.5,-261\"/>\n",
       "<text text-anchor=\"middle\" x=\"983.5\" y=\"-245.8\" font-family=\"Helvetica,sans-Serif\" font-size=\"14.00\">rh &lt;= 0.964</text>\n",
       "<text text-anchor=\"middle\" x=\"983.5\" y=\"-230.8\" font-family=\"Helvetica,sans-Serif\" font-size=\"14.00\">squared_error = 22.522</text>\n",
       "<text text-anchor=\"middle\" x=\"983.5\" y=\"-215.8\" font-family=\"Helvetica,sans-Serif\" font-size=\"14.00\">samples = 37388</text>\n",
       "<text text-anchor=\"middle\" x=\"983.5\" y=\"-200.8\" font-family=\"Helvetica,sans-Serif\" font-size=\"14.00\">value = 5.886</text>\n",
       "</g>\n",
       "<!-- 0&#45;&gt;8 -->\n",
       "<g id=\"edge8\" class=\"edge\">\n",
       "<title>0&#45;&gt;8</title>\n",
       "<path fill=\"none\" stroke=\"black\" d=\"M847.64,-296.6C866.65,-287 887.54,-276.46 907.11,-266.57\"/>\n",
       "<polygon fill=\"black\" stroke=\"black\" points=\"908.51,-269.79 915.86,-262.16 905.35,-263.54 908.51,-269.79\"/>\n",
       "<text text-anchor=\"middle\" x=\"909.4\" y=\"-281.52\" font-family=\"Helvetica,sans-Serif\" font-size=\"14.00\">False</text>\n",
       "</g>\n",
       "<!-- 2 -->\n",
       "<g id=\"node3\" class=\"node\">\n",
       "<title>2</title>\n",
       "<path fill=\"#e68743\" stroke=\"black\" d=\"M351.5,-157C351.5,-157 209.5,-157 209.5,-157 203.5,-157 197.5,-151 197.5,-145 197.5,-145 197.5,-101 197.5,-101 197.5,-95 203.5,-89 209.5,-89 209.5,-89 351.5,-89 351.5,-89 357.5,-89 363.5,-95 363.5,-101 363.5,-101 363.5,-145 363.5,-145 363.5,-151 357.5,-157 351.5,-157\"/>\n",
       "<text text-anchor=\"middle\" x=\"280.5\" y=\"-141.8\" font-family=\"Helvetica,sans-Serif\" font-size=\"14.00\">rh &lt;= 0.587</text>\n",
       "<text text-anchor=\"middle\" x=\"280.5\" y=\"-126.8\" font-family=\"Helvetica,sans-Serif\" font-size=\"14.00\">squared_error = 7.75</text>\n",
       "<text text-anchor=\"middle\" x=\"280.5\" y=\"-111.8\" font-family=\"Helvetica,sans-Serif\" font-size=\"14.00\">samples = 118782</text>\n",
       "<text text-anchor=\"middle\" x=\"280.5\" y=\"-96.8\" font-family=\"Helvetica,sans-Serif\" font-size=\"14.00\">value = 11.772</text>\n",
       "</g>\n",
       "<!-- 1&#45;&gt;2 -->\n",
       "<g id=\"edge2\" class=\"edge\">\n",
       "<title>1&#45;&gt;2</title>\n",
       "<path fill=\"none\" stroke=\"black\" d=\"M487.35,-194.56C451.51,-182.34 410.48,-168.34 374.47,-156.06\"/>\n",
       "<polygon fill=\"black\" stroke=\"black\" points=\"375.99,-152.88 365.39,-152.96 373.73,-159.5 375.99,-152.88\"/>\n",
       "</g>\n",
       "<!-- 5 -->\n",
       "<g id=\"node6\" class=\"node\">\n",
       "<title>5</title>\n",
       "<path fill=\"#eb9c63\" stroke=\"black\" d=\"M659.5,-157C659.5,-157 499.5,-157 499.5,-157 493.5,-157 487.5,-151 487.5,-145 487.5,-145 487.5,-101 487.5,-101 487.5,-95 493.5,-89 499.5,-89 499.5,-89 659.5,-89 659.5,-89 665.5,-89 671.5,-95 671.5,-101 671.5,-101 671.5,-145 671.5,-145 671.5,-151 665.5,-157 659.5,-157\"/>\n",
       "<text text-anchor=\"middle\" x=\"579.5\" y=\"-141.8\" font-family=\"Helvetica,sans-Serif\" font-size=\"14.00\">rh &lt;= 0.885</text>\n",
       "<text text-anchor=\"middle\" x=\"579.5\" y=\"-126.8\" font-family=\"Helvetica,sans-Serif\" font-size=\"14.00\">squared_error = 13.266</text>\n",
       "<text text-anchor=\"middle\" x=\"579.5\" y=\"-111.8\" font-family=\"Helvetica,sans-Serif\" font-size=\"14.00\">samples = 68608</text>\n",
       "<text text-anchor=\"middle\" x=\"579.5\" y=\"-96.8\" font-family=\"Helvetica,sans-Serif\" font-size=\"14.00\">value = 10.139</text>\n",
       "</g>\n",
       "<!-- 1&#45;&gt;5 -->\n",
       "<g id=\"edge5\" class=\"edge\">\n",
       "<title>1&#45;&gt;5</title>\n",
       "<path fill=\"none\" stroke=\"black\" d=\"M579.5,-192.6C579.5,-185.03 579.5,-176.87 579.5,-168.9\"/>\n",
       "<polygon fill=\"black\" stroke=\"black\" points=\"583,-168.99 579.5,-158.99 576,-168.99 583,-168.99\"/>\n",
       "</g>\n",
       "<!-- 3 -->\n",
       "<g id=\"node4\" class=\"node\">\n",
       "<title>3</title>\n",
       "<path fill=\"#e58139\" stroke=\"black\" d=\"M163,-53C163,-53 12,-53 12,-53 6,-53 0,-47 0,-41 0,-41 0,-12 0,-12 0,-6 6,0 12,0 12,0 163,0 163,0 169,0 175,-6 175,-12 175,-12 175,-41 175,-41 175,-47 169,-53 163,-53\"/>\n",
       "<text text-anchor=\"middle\" x=\"87.5\" y=\"-37.8\" font-family=\"Helvetica,sans-Serif\" font-size=\"14.00\">squared_error = 7.161</text>\n",
       "<text text-anchor=\"middle\" x=\"87.5\" y=\"-22.8\" font-family=\"Helvetica,sans-Serif\" font-size=\"14.00\">samples = 54978</text>\n",
       "<text text-anchor=\"middle\" x=\"87.5\" y=\"-7.8\" font-family=\"Helvetica,sans-Serif\" font-size=\"14.00\">value = 12.278</text>\n",
       "</g>\n",
       "<!-- 2&#45;&gt;3 -->\n",
       "<g id=\"edge3\" class=\"edge\">\n",
       "<title>2&#45;&gt;3</title>\n",
       "<path fill=\"none\" stroke=\"black\" d=\"M212.18,-88.55C192.15,-78.74 170.33,-68.06 150.63,-58.41\"/>\n",
       "<polygon fill=\"black\" stroke=\"black\" points=\"152.42,-55.39 141.9,-54.14 149.34,-61.68 152.42,-55.39\"/>\n",
       "</g>\n",
       "<!-- 4 -->\n",
       "<g id=\"node5\" class=\"node\">\n",
       "<title>4</title>\n",
       "<path fill=\"#e78d4c\" stroke=\"black\" d=\"M356,-53C356,-53 205,-53 205,-53 199,-53 193,-47 193,-41 193,-41 193,-12 193,-12 193,-6 199,0 205,0 205,0 356,0 356,0 362,0 368,-6 368,-12 368,-12 368,-41 368,-41 368,-47 362,-53 356,-53\"/>\n",
       "<text text-anchor=\"middle\" x=\"280.5\" y=\"-37.8\" font-family=\"Helvetica,sans-Serif\" font-size=\"14.00\">squared_error = 7.846</text>\n",
       "<text text-anchor=\"middle\" x=\"280.5\" y=\"-22.8\" font-family=\"Helvetica,sans-Serif\" font-size=\"14.00\">samples = 63804</text>\n",
       "<text text-anchor=\"middle\" x=\"280.5\" y=\"-7.8\" font-family=\"Helvetica,sans-Serif\" font-size=\"14.00\">value = 11.336</text>\n",
       "</g>\n",
       "<!-- 2&#45;&gt;4 -->\n",
       "<g id=\"edge4\" class=\"edge\">\n",
       "<title>2&#45;&gt;4</title>\n",
       "<path fill=\"none\" stroke=\"black\" d=\"M280.5,-88.68C280.5,-80.99 280.5,-72.76 280.5,-64.9\"/>\n",
       "<polygon fill=\"black\" stroke=\"black\" points=\"284,-64.91 280.5,-54.91 277,-64.91 284,-64.91\"/>\n",
       "</g>\n",
       "<!-- 6 -->\n",
       "<g id=\"node7\" class=\"node\">\n",
       "<title>6</title>\n",
       "<path fill=\"#e9975b\" stroke=\"black\" d=\"M558.5,-53C558.5,-53 398.5,-53 398.5,-53 392.5,-53 386.5,-47 386.5,-41 386.5,-41 386.5,-12 386.5,-12 386.5,-6 392.5,0 398.5,0 398.5,0 558.5,0 558.5,0 564.5,0 570.5,-6 570.5,-12 570.5,-12 570.5,-41 570.5,-41 570.5,-47 564.5,-53 558.5,-53\"/>\n",
       "<text text-anchor=\"middle\" x=\"478.5\" y=\"-37.8\" font-family=\"Helvetica,sans-Serif\" font-size=\"14.00\">squared_error = 11.199</text>\n",
       "<text text-anchor=\"middle\" x=\"478.5\" y=\"-22.8\" font-family=\"Helvetica,sans-Serif\" font-size=\"14.00\">samples = 44985</text>\n",
       "<text text-anchor=\"middle\" x=\"478.5\" y=\"-7.8\" font-family=\"Helvetica,sans-Serif\" font-size=\"14.00\">value = 10.545</text>\n",
       "</g>\n",
       "<!-- 5&#45;&gt;6 -->\n",
       "<g id=\"edge6\" class=\"edge\">\n",
       "<title>5&#45;&gt;6</title>\n",
       "<path fill=\"none\" stroke=\"black\" d=\"M543.89,-88.68C534.32,-79.72 523.95,-70.03 514.36,-61.06\"/>\n",
       "<polygon fill=\"black\" stroke=\"black\" points=\"516.97,-58.7 507.28,-54.43 512.19,-63.82 516.97,-58.7\"/>\n",
       "</g>\n",
       "<!-- 7 -->\n",
       "<g id=\"node8\" class=\"node\">\n",
       "<title>7</title>\n",
       "<path fill=\"#eda672\" stroke=\"black\" d=\"M760.5,-53C760.5,-53 600.5,-53 600.5,-53 594.5,-53 588.5,-47 588.5,-41 588.5,-41 588.5,-12 588.5,-12 588.5,-6 594.5,0 600.5,0 600.5,0 760.5,0 760.5,0 766.5,0 772.5,-6 772.5,-12 772.5,-12 772.5,-41 772.5,-41 772.5,-47 766.5,-53 760.5,-53\"/>\n",
       "<text text-anchor=\"middle\" x=\"680.5\" y=\"-37.8\" font-family=\"Helvetica,sans-Serif\" font-size=\"14.00\">squared_error = 16.291</text>\n",
       "<text text-anchor=\"middle\" x=\"680.5\" y=\"-22.8\" font-family=\"Helvetica,sans-Serif\" font-size=\"14.00\">samples = 23623</text>\n",
       "<text text-anchor=\"middle\" x=\"680.5\" y=\"-7.8\" font-family=\"Helvetica,sans-Serif\" font-size=\"14.00\">value = 9.367</text>\n",
       "</g>\n",
       "<!-- 5&#45;&gt;7 -->\n",
       "<g id=\"edge7\" class=\"edge\">\n",
       "<title>5&#45;&gt;7</title>\n",
       "<path fill=\"none\" stroke=\"black\" d=\"M615.11,-88.68C624.68,-79.72 635.05,-70.03 644.64,-61.06\"/>\n",
       "<polygon fill=\"black\" stroke=\"black\" points=\"646.81,-63.82 651.72,-54.43 642.03,-58.7 646.81,-63.82\"/>\n",
       "</g>\n",
       "<!-- 9 -->\n",
       "<g id=\"node10\" class=\"node\">\n",
       "<title>9</title>\n",
       "<path fill=\"#f2c09b\" stroke=\"black\" d=\"M1063.5,-157C1063.5,-157 903.5,-157 903.5,-157 897.5,-157 891.5,-151 891.5,-145 891.5,-145 891.5,-101 891.5,-101 891.5,-95 897.5,-89 903.5,-89 903.5,-89 1063.5,-89 1063.5,-89 1069.5,-89 1075.5,-95 1075.5,-101 1075.5,-101 1075.5,-145 1075.5,-145 1075.5,-151 1069.5,-157 1063.5,-157\"/>\n",
       "<text text-anchor=\"middle\" x=\"983.5\" y=\"-141.8\" font-family=\"Helvetica,sans-Serif\" font-size=\"14.00\">rh &lt;= 0.947</text>\n",
       "<text text-anchor=\"middle\" x=\"983.5\" y=\"-126.8\" font-family=\"Helvetica,sans-Serif\" font-size=\"14.00\">squared_error = 20.863</text>\n",
       "<text text-anchor=\"middle\" x=\"983.5\" y=\"-111.8\" font-family=\"Helvetica,sans-Serif\" font-size=\"14.00\">samples = 21187</text>\n",
       "<text text-anchor=\"middle\" x=\"983.5\" y=\"-96.8\" font-family=\"Helvetica,sans-Serif\" font-size=\"14.00\">value = 7.29</text>\n",
       "</g>\n",
       "<!-- 8&#45;&gt;9 -->\n",
       "<g id=\"edge9\" class=\"edge\">\n",
       "<title>8&#45;&gt;9</title>\n",
       "<path fill=\"none\" stroke=\"black\" d=\"M983.5,-192.6C983.5,-185.03 983.5,-176.87 983.5,-168.9\"/>\n",
       "<polygon fill=\"black\" stroke=\"black\" points=\"987,-168.99 983.5,-158.99 980,-168.99 987,-168.99\"/>\n",
       "</g>\n",
       "<!-- 12 -->\n",
       "<g id=\"node13\" class=\"node\">\n",
       "<title>12</title>\n",
       "<path fill=\"#fae8db\" stroke=\"black\" d=\"M1366.5,-157C1366.5,-157 1206.5,-157 1206.5,-157 1200.5,-157 1194.5,-151 1194.5,-145 1194.5,-145 1194.5,-101 1194.5,-101 1194.5,-95 1200.5,-89 1206.5,-89 1206.5,-89 1366.5,-89 1366.5,-89 1372.5,-89 1378.5,-95 1378.5,-101 1378.5,-101 1378.5,-145 1378.5,-145 1378.5,-151 1372.5,-157 1366.5,-157\"/>\n",
       "<text text-anchor=\"middle\" x=\"1286.5\" y=\"-141.8\" font-family=\"Helvetica,sans-Serif\" font-size=\"14.00\">rh &lt;= 0.994</text>\n",
       "<text text-anchor=\"middle\" x=\"1286.5\" y=\"-126.8\" font-family=\"Helvetica,sans-Serif\" font-size=\"14.00\">squared_error = 18.747</text>\n",
       "<text text-anchor=\"middle\" x=\"1286.5\" y=\"-111.8\" font-family=\"Helvetica,sans-Serif\" font-size=\"14.00\">samples = 16201</text>\n",
       "<text text-anchor=\"middle\" x=\"1286.5\" y=\"-96.8\" font-family=\"Helvetica,sans-Serif\" font-size=\"14.00\">value = 4.051</text>\n",
       "</g>\n",
       "<!-- 8&#45;&gt;12 -->\n",
       "<g id=\"edge12\" class=\"edge\">\n",
       "<title>8&#45;&gt;12</title>\n",
       "<path fill=\"none\" stroke=\"black\" d=\"M1075.64,-194.98C1109.65,-183.53 1148.39,-170.49 1183.31,-158.74\"/>\n",
       "<polygon fill=\"black\" stroke=\"black\" points=\"1184.22,-162.13 1192.58,-155.62 1181.98,-155.49 1184.22,-162.13\"/>\n",
       "</g>\n",
       "<!-- 10 -->\n",
       "<g id=\"node11\" class=\"node\">\n",
       "<title>10</title>\n",
       "<path fill=\"#f0b78d\" stroke=\"black\" d=\"M962.5,-53C962.5,-53 802.5,-53 802.5,-53 796.5,-53 790.5,-47 790.5,-41 790.5,-41 790.5,-12 790.5,-12 790.5,-6 796.5,0 802.5,0 802.5,0 962.5,0 962.5,0 968.5,0 974.5,-6 974.5,-12 974.5,-12 974.5,-41 974.5,-41 974.5,-47 968.5,-53 962.5,-53\"/>\n",
       "<text text-anchor=\"middle\" x=\"882.5\" y=\"-37.8\" font-family=\"Helvetica,sans-Serif\" font-size=\"14.00\">squared_error = 19.527</text>\n",
       "<text text-anchor=\"middle\" x=\"882.5\" y=\"-22.8\" font-family=\"Helvetica,sans-Serif\" font-size=\"14.00\">samples = 10401</text>\n",
       "<text text-anchor=\"middle\" x=\"882.5\" y=\"-7.8\" font-family=\"Helvetica,sans-Serif\" font-size=\"14.00\">value = 7.998</text>\n",
       "</g>\n",
       "<!-- 9&#45;&gt;10 -->\n",
       "<g id=\"edge10\" class=\"edge\">\n",
       "<title>9&#45;&gt;10</title>\n",
       "<path fill=\"none\" stroke=\"black\" d=\"M947.89,-88.68C938.32,-79.72 927.95,-70.03 918.36,-61.06\"/>\n",
       "<polygon fill=\"black\" stroke=\"black\" points=\"920.97,-58.7 911.28,-54.43 916.19,-63.82 920.97,-58.7\"/>\n",
       "</g>\n",
       "<!-- 11 -->\n",
       "<g id=\"node12\" class=\"node\">\n",
       "<title>11</title>\n",
       "<path fill=\"#f4c8a9\" stroke=\"black\" d=\"M1164.5,-53C1164.5,-53 1004.5,-53 1004.5,-53 998.5,-53 992.5,-47 992.5,-41 992.5,-41 992.5,-12 992.5,-12 992.5,-6 998.5,0 1004.5,0 1004.5,0 1164.5,0 1164.5,0 1170.5,0 1176.5,-6 1176.5,-12 1176.5,-12 1176.5,-41 1176.5,-41 1176.5,-47 1170.5,-53 1164.5,-53\"/>\n",
       "<text text-anchor=\"middle\" x=\"1084.5\" y=\"-37.8\" font-family=\"Helvetica,sans-Serif\" font-size=\"14.00\">squared_error = 21.201</text>\n",
       "<text text-anchor=\"middle\" x=\"1084.5\" y=\"-22.8\" font-family=\"Helvetica,sans-Serif\" font-size=\"14.00\">samples = 10786</text>\n",
       "<text text-anchor=\"middle\" x=\"1084.5\" y=\"-7.8\" font-family=\"Helvetica,sans-Serif\" font-size=\"14.00\">value = 6.607</text>\n",
       "</g>\n",
       "<!-- 9&#45;&gt;11 -->\n",
       "<g id=\"edge11\" class=\"edge\">\n",
       "<title>9&#45;&gt;11</title>\n",
       "<path fill=\"none\" stroke=\"black\" d=\"M1019.11,-88.68C1028.68,-79.72 1039.05,-70.03 1048.64,-61.06\"/>\n",
       "<polygon fill=\"black\" stroke=\"black\" points=\"1050.81,-63.82 1055.72,-54.43 1046.03,-58.7 1050.81,-63.82\"/>\n",
       "</g>\n",
       "<!-- 13 -->\n",
       "<g id=\"node14\" class=\"node\">\n",
       "<title>13</title>\n",
       "<path fill=\"#f9e3d2\" stroke=\"black\" d=\"M1366.5,-53C1366.5,-53 1206.5,-53 1206.5,-53 1200.5,-53 1194.5,-47 1194.5,-41 1194.5,-41 1194.5,-12 1194.5,-12 1194.5,-6 1200.5,0 1206.5,0 1206.5,0 1366.5,0 1366.5,0 1372.5,0 1378.5,-6 1378.5,-12 1378.5,-12 1378.5,-41 1378.5,-41 1378.5,-47 1372.5,-53 1366.5,-53\"/>\n",
       "<text text-anchor=\"middle\" x=\"1286.5\" y=\"-37.8\" font-family=\"Helvetica,sans-Serif\" font-size=\"14.00\">squared_error = 19.614</text>\n",
       "<text text-anchor=\"middle\" x=\"1286.5\" y=\"-22.8\" font-family=\"Helvetica,sans-Serif\" font-size=\"14.00\">samples = 12956</text>\n",
       "<text text-anchor=\"middle\" x=\"1286.5\" y=\"-7.8\" font-family=\"Helvetica,sans-Serif\" font-size=\"14.00\">value = 4.505</text>\n",
       "</g>\n",
       "<!-- 12&#45;&gt;13 -->\n",
       "<g id=\"edge13\" class=\"edge\">\n",
       "<title>12&#45;&gt;13</title>\n",
       "<path fill=\"none\" stroke=\"black\" d=\"M1286.5,-88.68C1286.5,-80.99 1286.5,-72.76 1286.5,-64.9\"/>\n",
       "<polygon fill=\"black\" stroke=\"black\" points=\"1290,-64.91 1286.5,-54.91 1283,-64.91 1290,-64.91\"/>\n",
       "</g>\n",
       "<!-- 14 -->\n",
       "<g id=\"node15\" class=\"node\">\n",
       "<title>14</title>\n",
       "<path fill=\"#ffffff\" stroke=\"black\" d=\"M1568.5,-53C1568.5,-53 1408.5,-53 1408.5,-53 1402.5,-53 1396.5,-47 1396.5,-41 1396.5,-41 1396.5,-12 1396.5,-12 1396.5,-6 1402.5,0 1408.5,0 1408.5,0 1568.5,0 1568.5,0 1574.5,0 1580.5,-6 1580.5,-12 1580.5,-12 1580.5,-41 1580.5,-41 1580.5,-47 1574.5,-53 1568.5,-53\"/>\n",
       "<text text-anchor=\"middle\" x=\"1488.5\" y=\"-37.8\" font-family=\"Helvetica,sans-Serif\" font-size=\"14.00\">squared_error = 11.175</text>\n",
       "<text text-anchor=\"middle\" x=\"1488.5\" y=\"-22.8\" font-family=\"Helvetica,sans-Serif\" font-size=\"14.00\">samples = 3245</text>\n",
       "<text text-anchor=\"middle\" x=\"1488.5\" y=\"-7.8\" font-family=\"Helvetica,sans-Serif\" font-size=\"14.00\">value = 2.238</text>\n",
       "</g>\n",
       "<!-- 12&#45;&gt;14 -->\n",
       "<g id=\"edge14\" class=\"edge\">\n",
       "<title>12&#45;&gt;14</title>\n",
       "<path fill=\"none\" stroke=\"black\" d=\"M1358,-88.55C1379.07,-78.69 1402.02,-67.96 1422.71,-58.28\"/>\n",
       "<polygon fill=\"black\" stroke=\"black\" points=\"1424.04,-61.52 1431.61,-54.11 1421.07,-55.18 1424.04,-61.52\"/>\n",
       "</g>\n",
       "</g>\n",
       "</svg>\n"
      ],
      "text/plain": [
       "<graphviz.sources.Source at 0x7faae0f0b940>"
      ]
     },
     "execution_count": 4,
     "metadata": {},
     "output_type": "execute_result"
    }
   ],
   "source": [
    "export_graphviz(\n",
    "    tree_reg,\n",
    "    out_file = str(IMAGES_PATH / \"regression_tree.dot\"),\n",
    "    feature_names = predictores,\n",
    "    rounded = True,\n",
    "    filled = True\n",
    ")\n",
    "Source.from_file(IMAGES_PATH / \"regression_tree.dot\")"
   ]
  },
  {
   "cell_type": "markdown",
   "id": "71afdabb",
   "metadata": {},
   "source": [
    "El método `score` nos permite acceder al coeficiente de determinación de la predicción que generamos con los datos de testeo. Esto es el R^2. \n",
    "\n",
    "En este caso el R^2 no es muy bueno, solo 0.316. Pero es nuestro primer árbol de regresión. "
   ]
  },
  {
   "cell_type": "code",
   "execution_count": 5,
   "id": "eec94d72",
   "metadata": {},
   "outputs": [
    {
     "data": {
      "text/plain": [
       "0.31295641251813866"
      ]
     },
     "execution_count": 5,
     "metadata": {},
     "output_type": "execute_result"
    }
   ],
   "source": [
    "tree_reg.score(x_test, y_test)"
   ]
  },
  {
   "cell_type": "markdown",
   "id": "35cd6691",
   "metadata": {},
   "source": [
    "Podemos visualizar los valores predichos (línea negra), que son constantes en los límites de cada umbral de `rh` generado durante el entrenamiento del modelo (líneas rojas en el gráfico). "
   ]
  },
  {
   "cell_type": "code",
   "execution_count": 6,
   "id": "9aff7430",
   "metadata": {},
   "outputs": [
    {
     "data": {
      "text/plain": [
       "<matplotlib.legend.Legend at 0x7faa7348e320>"
      ]
     },
     "execution_count": 6,
     "metadata": {},
     "output_type": "execute_result"
    },
    {
     "data": {
      "image/png": "[encoded data removed]",
      "text/plain": [
       "<Figure size 640x480 with 1 Axes>"
      ]
     },
     "metadata": {},
     "output_type": "display_data"
    }
   ],
   "source": [
    "th = tree_reg.tree_.threshold[tree_reg.tree_.threshold != -2.]\n",
    "\n",
    "x1 = np.linspace(0, 1, 100).reshape(-1, 1)\n",
    "y_pred = tree_reg.predict(x1)\n",
    "\n",
    "\n",
    "plt.figure()\n",
    "plt.plot(x_values, y_values, \"yo\", markersize = 2, label = \"Valor observado\")\n",
    "plt.plot(x1, y_pred, \"k-\", label = \"Valor predicho\")\n",
    "for t in th:\n",
    "    plt.plot([t, t], [0, 70], \"r-\")\n",
    "plt.xlabel(\"Humedad relativa\")\n",
    "plt.ylabel(\"Visibilidad\")\n",
    "plt.legend()"
   ]
  },
  {
   "cell_type": "markdown",
   "id": "0f0fbc07",
   "metadata": {},
   "source": [
    "Ahora que tenemos una idea de cómo funciona un árbol de regresión podemos agregar otros predictores:\n",
    "\n",
    "* la velocidad del viento\n",
    "* la hora del día, que extraemos de la fecha\n",
    "* la temperatura"
   ]
  },
  {
   "cell_type": "code",
   "execution_count": 7,
   "id": "10d9b70f",
   "metadata": {},
   "outputs": [],
   "source": [
    "# filtro datos faltantes\n",
    "not_missing = np.logical_and(np.logical_and(np.logical_and(data[\"rh\"] != data[\"undef\"], \n",
    "                             data[\"windspeed\"] != data[\"undef\"]), data[\"vis\"] != data[\"undef\"]),\n",
    "                             data[\"temperature\"] != data[\"undef\"])\n",
    "\n",
    "# extraemos la hora del día de `dates`\n",
    "data[\"hours\"] = np.array([x.hour for x in data[\"dates\"]])\n",
    "\n",
    "predictores = [\"rh\", \"windspeed\", \"temperature\", \"hours\"]\n",
    "\n",
    "# los datos deben estar en arrays\n",
    "x_values = np.array([data[x][not_missing] for x in predictores], dtype=object).transpose()\n",
    "y_values = data[\"vis\"][not_missing]\n",
    "\n",
    "# separamos los datos en entrenamiento (train) y testeo (testeo)\n",
    "x_train, x_test, y_train, y_test = train_test_split(x_values, y_values,\n",
    "                                                    test_size = 0.2,\n",
    "                                                    random_state = 42)"
   ]
  },
  {
   "cell_type": "code",
   "execution_count": 8,
   "id": "219ffea3",
   "metadata": {},
   "outputs": [
    {
     "data": {
      "text/plain": [
       "0.3287964973134534"
      ]
     },
     "execution_count": 8,
     "metadata": {},
     "output_type": "execute_result"
    }
   ],
   "source": [
    "tree_reg = DecisionTreeRegressor(max_depth = 3, random_state = 42)\n",
    "tree_reg.fit(x_train, y_train)\n",
    "\n",
    "tree_reg.score(x_test, y_test)"
   ]
  },
  {
   "cell_type": "markdown",
   "id": "e500852f",
   "metadata": {},
   "source": [
    "El R^2 del árbol que incluye más predictores es un poco mejor, subió a 0.328. Sin embargo, podría mejorar aún más con alguna técnica de regularización. \n",
    "\n",
    "## Elección de hiperparámetros\n",
    "\n",
    "Antes definimos `max_depth = 3` de manera arbitraria, podemos evaluar la performance del modelo utilizando distintas combinaciones de hiperparámetros. Para eso aprovechamos `GridSearchCV` que utiliza cross validation para definir que parámetros dan el mejor modelo. \n",
    "\n",
    "En este caso usaremos `max_leaf_nodes`, `max_depth` y `min_samples_split`. Cómo estamos entrenando un árbol para cada combinación de estos parámetros, puede demorar. "
   ]
  },
  {
   "cell_type": "code",
   "execution_count": 9,
   "id": "0bdee0f2",
   "metadata": {},
   "outputs": [
    {
     "data": {
      "text/html": [
       "<style>#sk-container-id-2 {color: black;background-color: white;}#sk-container-id-2 pre{padding: 0;}#sk-container-id-2 div.sk-toggleable {background-color: white;}#sk-container-id-2 label.sk-toggleable__label {cursor: pointer;display: block;width: 100%;margin-bottom: 0;padding: 0.3em;box-sizing: border-box;text-align: center;}#sk-container-id-2 label.sk-toggleable__label-arrow:before {content: \"▸\";float: left;margin-right: 0.25em;color: #696969;}#sk-container-id-2 label.sk-toggleable__label-arrow:hover:before {color: black;}#sk-container-id-2 div.sk-estimator:hover label.sk-toggleable__label-arrow:before {color: black;}#sk-container-id-2 div.sk-toggleable__content {max-height: 0;max-width: 0;overflow: hidden;text-align: left;background-color: #f0f8ff;}#sk-container-id-2 div.sk-toggleable__content pre {margin: 0.2em;color: black;border-radius: 0.25em;background-color: #f0f8ff;}#sk-container-id-2 input.sk-toggleable__control:checked~div.sk-toggleable__content {max-height: 200px;max-width: 100%;overflow: auto;}#sk-container-id-2 input.sk-toggleable__control:checked~label.sk-toggleable__label-arrow:before {content: \"▾\";}#sk-container-id-2 div.sk-estimator input.sk-toggleable__control:checked~label.sk-toggleable__label {background-color: #d4ebff;}#sk-container-id-2 div.sk-label input.sk-toggleable__control:checked~label.sk-toggleable__label {background-color: #d4ebff;}#sk-container-id-2 input.sk-hidden--visually {border: 0;clip: rect(1px 1px 1px 1px);clip: rect(1px, 1px, 1px, 1px);height: 1px;margin: -1px;overflow: hidden;padding: 0;position: absolute;width: 1px;}#sk-container-id-2 div.sk-estimator {font-family: monospace;background-color: #f0f8ff;border: 1px dotted black;border-radius: 0.25em;box-sizing: border-box;margin-bottom: 0.5em;}#sk-container-id-2 div.sk-estimator:hover {background-color: #d4ebff;}#sk-container-id-2 div.sk-parallel-item::after {content: \"\";width: 100%;border-bottom: 1px solid gray;flex-grow: 1;}#sk-container-id-2 div.sk-label:hover label.sk-toggleable__label {background-color: #d4ebff;}#sk-container-id-2 div.sk-serial::before {content: \"\";position: absolute;border-left: 1px solid gray;box-sizing: border-box;top: 0;bottom: 0;left: 50%;z-index: 0;}#sk-container-id-2 div.sk-serial {display: flex;flex-direction: column;align-items: center;background-color: white;padding-right: 0.2em;padding-left: 0.2em;position: relative;}#sk-container-id-2 div.sk-item {position: relative;z-index: 1;}#sk-container-id-2 div.sk-parallel {display: flex;align-items: stretch;justify-content: center;background-color: white;position: relative;}#sk-container-id-2 div.sk-item::before, #sk-container-id-2 div.sk-parallel-item::before {content: \"\";position: absolute;border-left: 1px solid gray;box-sizing: border-box;top: 0;bottom: 0;left: 50%;z-index: -1;}#sk-container-id-2 div.sk-parallel-item {display: flex;flex-direction: column;z-index: 1;position: relative;background-color: white;}#sk-container-id-2 div.sk-parallel-item:first-child::after {align-self: flex-end;width: 50%;}#sk-container-id-2 div.sk-parallel-item:last-child::after {align-self: flex-start;width: 50%;}#sk-container-id-2 div.sk-parallel-item:only-child::after {width: 0;}#sk-container-id-2 div.sk-dashed-wrapped {border: 1px dashed gray;margin: 0 0.4em 0.5em 0.4em;box-sizing: border-box;padding-bottom: 0.4em;background-color: white;}#sk-container-id-2 div.sk-label label {font-family: monospace;font-weight: bold;display: inline-block;line-height: 1.2em;}#sk-container-id-2 div.sk-label-container {text-align: center;}#sk-container-id-2 div.sk-container {/* jupyter's `normalize.less` sets `[hidden] { display: none; }` but bootstrap.min.css set `[hidden] { display: none !important; }` so we also need the `!important` here to be able to override the default hidden behavior on the sphinx rendered scikit-learn.org. See: https://github.com/scikit-learn/scikit-learn/issues/21755 */display: inline-block !important;position: relative;}#sk-container-id-2 div.sk-text-repr-fallback {display: none;}</style><div id=\"sk-container-id-2\" class=\"sk-top-container\"><div class=\"sk-text-repr-fallback\"><pre>GridSearchCV(cv=3, estimator=DecisionTreeRegressor(random_state=42),\n",
       "             param_grid={&#x27;max_depth&#x27;: [1, 2, 3, 4, 5, 6],\n",
       "                         &#x27;max_leaf_nodes&#x27;: [2, 10, 20, 30, 40, 50],\n",
       "                         &#x27;min_samples_split&#x27;: [1000, 5000, 10000]})</pre><b>In a Jupyter environment, please rerun this cell to show the HTML representation or trust the notebook. <br />On GitHub, the HTML representation is unable to render, please try loading this page with nbviewer.org.</b></div><div class=\"sk-container\" hidden><div class=\"sk-item sk-dashed-wrapped\"><div class=\"sk-label-container\"><div class=\"sk-label sk-toggleable\"><input class=\"sk-toggleable__control sk-hidden--visually\" id=\"sk-estimator-id-2\" type=\"checkbox\" ><label for=\"sk-estimator-id-2\" class=\"sk-toggleable__label sk-toggleable__label-arrow\">GridSearchCV</label><div class=\"sk-toggleable__content\"><pre>GridSearchCV(cv=3, estimator=DecisionTreeRegressor(random_state=42),\n",
       "             param_grid={&#x27;max_depth&#x27;: [1, 2, 3, 4, 5, 6],\n",
       "                         &#x27;max_leaf_nodes&#x27;: [2, 10, 20, 30, 40, 50],\n",
       "                         &#x27;min_samples_split&#x27;: [1000, 5000, 10000]})</pre></div></div></div><div class=\"sk-parallel\"><div class=\"sk-parallel-item\"><div class=\"sk-item\"><div class=\"sk-label-container\"><div class=\"sk-label sk-toggleable\"><input class=\"sk-toggleable__control sk-hidden--visually\" id=\"sk-estimator-id-3\" type=\"checkbox\" ><label for=\"sk-estimator-id-3\" class=\"sk-toggleable__label sk-toggleable__label-arrow\">estimator: DecisionTreeRegressor</label><div class=\"sk-toggleable__content\"><pre>DecisionTreeRegressor(random_state=42)</pre></div></div></div><div class=\"sk-serial\"><div class=\"sk-item\"><div class=\"sk-estimator sk-toggleable\"><input class=\"sk-toggleable__control sk-hidden--visually\" id=\"sk-estimator-id-4\" type=\"checkbox\" ><label for=\"sk-estimator-id-4\" class=\"sk-toggleable__label sk-toggleable__label-arrow\">DecisionTreeRegressor</label><div class=\"sk-toggleable__content\"><pre>DecisionTreeRegressor(random_state=42)</pre></div></div></div></div></div></div></div></div></div></div>"
      ],
      "text/plain": [
       "GridSearchCV(cv=3, estimator=DecisionTreeRegressor(random_state=42),\n",
       "             param_grid={'max_depth': [1, 2, 3, 4, 5, 6],\n",
       "                         'max_leaf_nodes': [2, 10, 20, 30, 40, 50],\n",
       "                         'min_samples_split': [1000, 5000, 10000]})"
      ]
     },
     "execution_count": 9,
     "metadata": {},
     "output_type": "execute_result"
    }
   ],
   "source": [
    "from sklearn.model_selection import GridSearchCV\n",
    "\n",
    "params = {\n",
    "    'max_leaf_nodes': [2, 10, 20, 30, 40, 50], \n",
    "    'max_depth': list(range(1, 7)),\n",
    "    'min_samples_split': [1000, 5000, 10000]\n",
    "}\n",
    "grid_search_cv = GridSearchCV(DecisionTreeRegressor(random_state = 42),\n",
    "                              params,\n",
    "                              cv = 3)\n",
    "\n",
    "grid_search_cv.fit(x_train, y_train)"
   ]
  },
  {
   "cell_type": "markdown",
   "id": "c9a4f2e3",
   "metadata": {},
   "source": [
    "`best_estimator_` nos devuelve el modelo que genera la mejor estimación. "
   ]
  },
  {
   "cell_type": "code",
   "execution_count": 10,
   "id": "142398a7",
   "metadata": {},
   "outputs": [
    {
     "data": {
      "text/html": [
       "<style>#sk-container-id-3 {color: black;background-color: white;}#sk-container-id-3 pre{padding: 0;}#sk-container-id-3 div.sk-toggleable {background-color: white;}#sk-container-id-3 label.sk-toggleable__label {cursor: pointer;display: block;width: 100%;margin-bottom: 0;padding: 0.3em;box-sizing: border-box;text-align: center;}#sk-container-id-3 label.sk-toggleable__label-arrow:before {content: \"▸\";float: left;margin-right: 0.25em;color: #696969;}#sk-container-id-3 label.sk-toggleable__label-arrow:hover:before {color: black;}#sk-container-id-3 div.sk-estimator:hover label.sk-toggleable__label-arrow:before {color: black;}#sk-container-id-3 div.sk-toggleable__content {max-height: 0;max-width: 0;overflow: hidden;text-align: left;background-color: #f0f8ff;}#sk-container-id-3 div.sk-toggleable__content pre {margin: 0.2em;color: black;border-radius: 0.25em;background-color: #f0f8ff;}#sk-container-id-3 input.sk-toggleable__control:checked~div.sk-toggleable__content {max-height: 200px;max-width: 100%;overflow: auto;}#sk-container-id-3 input.sk-toggleable__control:checked~label.sk-toggleable__label-arrow:before {content: \"▾\";}#sk-container-id-3 div.sk-estimator input.sk-toggleable__control:checked~label.sk-toggleable__label {background-color: #d4ebff;}#sk-container-id-3 div.sk-label input.sk-toggleable__control:checked~label.sk-toggleable__label {background-color: #d4ebff;}#sk-container-id-3 input.sk-hidden--visually {border: 0;clip: rect(1px 1px 1px 1px);clip: rect(1px, 1px, 1px, 1px);height: 1px;margin: -1px;overflow: hidden;padding: 0;position: absolute;width: 1px;}#sk-container-id-3 div.sk-estimator {font-family: monospace;background-color: #f0f8ff;border: 1px dotted black;border-radius: 0.25em;box-sizing: border-box;margin-bottom: 0.5em;}#sk-container-id-3 div.sk-estimator:hover {background-color: #d4ebff;}#sk-container-id-3 div.sk-parallel-item::after {content: \"\";width: 100%;border-bottom: 1px solid gray;flex-grow: 1;}#sk-container-id-3 div.sk-label:hover label.sk-toggleable__label {background-color: #d4ebff;}#sk-container-id-3 div.sk-serial::before {content: \"\";position: absolute;border-left: 1px solid gray;box-sizing: border-box;top: 0;bottom: 0;left: 50%;z-index: 0;}#sk-container-id-3 div.sk-serial {display: flex;flex-direction: column;align-items: center;background-color: white;padding-right: 0.2em;padding-left: 0.2em;position: relative;}#sk-container-id-3 div.sk-item {position: relative;z-index: 1;}#sk-container-id-3 div.sk-parallel {display: flex;align-items: stretch;justify-content: center;background-color: white;position: relative;}#sk-container-id-3 div.sk-item::before, #sk-container-id-3 div.sk-parallel-item::before {content: \"\";position: absolute;border-left: 1px solid gray;box-sizing: border-box;top: 0;bottom: 0;left: 50%;z-index: -1;}#sk-container-id-3 div.sk-parallel-item {display: flex;flex-direction: column;z-index: 1;position: relative;background-color: white;}#sk-container-id-3 div.sk-parallel-item:first-child::after {align-self: flex-end;width: 50%;}#sk-container-id-3 div.sk-parallel-item:last-child::after {align-self: flex-start;width: 50%;}#sk-container-id-3 div.sk-parallel-item:only-child::after {width: 0;}#sk-container-id-3 div.sk-dashed-wrapped {border: 1px dashed gray;margin: 0 0.4em 0.5em 0.4em;box-sizing: border-box;padding-bottom: 0.4em;background-color: white;}#sk-container-id-3 div.sk-label label {font-family: monospace;font-weight: bold;display: inline-block;line-height: 1.2em;}#sk-container-id-3 div.sk-label-container {text-align: center;}#sk-container-id-3 div.sk-container {/* jupyter's `normalize.less` sets `[hidden] { display: none; }` but bootstrap.min.css set `[hidden] { display: none !important; }` so we also need the `!important` here to be able to override the default hidden behavior on the sphinx rendered scikit-learn.org. See: https://github.com/scikit-learn/scikit-learn/issues/21755 */display: inline-block !important;position: relative;}#sk-container-id-3 div.sk-text-repr-fallback {display: none;}</style><div id=\"sk-container-id-3\" class=\"sk-top-container\"><div class=\"sk-text-repr-fallback\"><pre>DecisionTreeRegressor(max_depth=6, max_leaf_nodes=50, min_samples_split=1000,\n",
       "                      random_state=42)</pre><b>In a Jupyter environment, please rerun this cell to show the HTML representation or trust the notebook. <br />On GitHub, the HTML representation is unable to render, please try loading this page with nbviewer.org.</b></div><div class=\"sk-container\" hidden><div class=\"sk-item\"><div class=\"sk-estimator sk-toggleable\"><input class=\"sk-toggleable__control sk-hidden--visually\" id=\"sk-estimator-id-5\" type=\"checkbox\" checked><label for=\"sk-estimator-id-5\" class=\"sk-toggleable__label sk-toggleable__label-arrow\">DecisionTreeRegressor</label><div class=\"sk-toggleable__content\"><pre>DecisionTreeRegressor(max_depth=6, max_leaf_nodes=50, min_samples_split=1000,\n",
       "                      random_state=42)</pre></div></div></div></div></div>"
      ],
      "text/plain": [
       "DecisionTreeRegressor(max_depth=6, max_leaf_nodes=50, min_samples_split=1000,\n",
       "                      random_state=42)"
      ]
     },
     "execution_count": 10,
     "metadata": {},
     "output_type": "execute_result"
    }
   ],
   "source": [
    "grid_search_cv.best_estimator_"
   ]
  },
  {
   "cell_type": "markdown",
   "id": "d0b9cff1",
   "metadata": {},
   "source": [
    "Por defecto `GridSearchCV` entrena el mejor modelo que encontró, por lo que podemos calcular el R^2 directamente usando los datos de testeo como antes. \n",
    "\n",
    "En este caso el R^2 aumenta \"considerablemente\". "
   ]
  },
  {
   "cell_type": "code",
   "execution_count": 11,
   "id": "f3880a43",
   "metadata": {},
   "outputs": [
    {
     "data": {
      "text/plain": [
       "0.37959911843030336"
      ]
     },
     "execution_count": 11,
     "metadata": {},
     "output_type": "execute_result"
    }
   ],
   "source": [
    "grid_search_cv.score(x_test, y_test)"
   ]
  },
  {
   "cell_type": "markdown",
   "id": "0606c241",
   "metadata": {},
   "source": [
    "## Ensemble learning\n",
    "\n",
    "Ahora que tenemos un \"mejor modelo\", podemos aprovechar las ventajas de Random Forest. Que, según la teoría, debería darnos un modelo con una mejor performance que si usáramos un árbol individual. \n",
    "\n",
    "Para aplicar random forest para calcular una regresión usamos `RandomForestRegressor` (hay un equivalente para clasificación). \n",
    "\n",
    "En este caso `n_estimators` el la cantidad del árboles en el bosque, y `n_jobs = -1` significa que usaremos todos los procesadores disponibles. Aún así es posible que demore. "
   ]
  },
  {
   "cell_type": "code",
   "execution_count": 12,
   "id": "2cff9c08",
   "metadata": {},
   "outputs": [
    {
     "data": {
      "text/html": [
       "<style>#sk-container-id-4 {color: black;background-color: white;}#sk-container-id-4 pre{padding: 0;}#sk-container-id-4 div.sk-toggleable {background-color: white;}#sk-container-id-4 label.sk-toggleable__label {cursor: pointer;display: block;width: 100%;margin-bottom: 0;padding: 0.3em;box-sizing: border-box;text-align: center;}#sk-container-id-4 label.sk-toggleable__label-arrow:before {content: \"▸\";float: left;margin-right: 0.25em;color: #696969;}#sk-container-id-4 label.sk-toggleable__label-arrow:hover:before {color: black;}#sk-container-id-4 div.sk-estimator:hover label.sk-toggleable__label-arrow:before {color: black;}#sk-container-id-4 div.sk-toggleable__content {max-height: 0;max-width: 0;overflow: hidden;text-align: left;background-color: #f0f8ff;}#sk-container-id-4 div.sk-toggleable__content pre {margin: 0.2em;color: black;border-radius: 0.25em;background-color: #f0f8ff;}#sk-container-id-4 input.sk-toggleable__control:checked~div.sk-toggleable__content {max-height: 200px;max-width: 100%;overflow: auto;}#sk-container-id-4 input.sk-toggleable__control:checked~label.sk-toggleable__label-arrow:before {content: \"▾\";}#sk-container-id-4 div.sk-estimator input.sk-toggleable__control:checked~label.sk-toggleable__label {background-color: #d4ebff;}#sk-container-id-4 div.sk-label input.sk-toggleable__control:checked~label.sk-toggleable__label {background-color: #d4ebff;}#sk-container-id-4 input.sk-hidden--visually {border: 0;clip: rect(1px 1px 1px 1px);clip: rect(1px, 1px, 1px, 1px);height: 1px;margin: -1px;overflow: hidden;padding: 0;position: absolute;width: 1px;}#sk-container-id-4 div.sk-estimator {font-family: monospace;background-color: #f0f8ff;border: 1px dotted black;border-radius: 0.25em;box-sizing: border-box;margin-bottom: 0.5em;}#sk-container-id-4 div.sk-estimator:hover {background-color: #d4ebff;}#sk-container-id-4 div.sk-parallel-item::after {content: \"\";width: 100%;border-bottom: 1px solid gray;flex-grow: 1;}#sk-container-id-4 div.sk-label:hover label.sk-toggleable__label {background-color: #d4ebff;}#sk-container-id-4 div.sk-serial::before {content: \"\";position: absolute;border-left: 1px solid gray;box-sizing: border-box;top: 0;bottom: 0;left: 50%;z-index: 0;}#sk-container-id-4 div.sk-serial {display: flex;flex-direction: column;align-items: center;background-color: white;padding-right: 0.2em;padding-left: 0.2em;position: relative;}#sk-container-id-4 div.sk-item {position: relative;z-index: 1;}#sk-container-id-4 div.sk-parallel {display: flex;align-items: stretch;justify-content: center;background-color: white;position: relative;}#sk-container-id-4 div.sk-item::before, #sk-container-id-4 div.sk-parallel-item::before {content: \"\";position: absolute;border-left: 1px solid gray;box-sizing: border-box;top: 0;bottom: 0;left: 50%;z-index: -1;}#sk-container-id-4 div.sk-parallel-item {display: flex;flex-direction: column;z-index: 1;position: relative;background-color: white;}#sk-container-id-4 div.sk-parallel-item:first-child::after {align-self: flex-end;width: 50%;}#sk-container-id-4 div.sk-parallel-item:last-child::after {align-self: flex-start;width: 50%;}#sk-container-id-4 div.sk-parallel-item:only-child::after {width: 0;}#sk-container-id-4 div.sk-dashed-wrapped {border: 1px dashed gray;margin: 0 0.4em 0.5em 0.4em;box-sizing: border-box;padding-bottom: 0.4em;background-color: white;}#sk-container-id-4 div.sk-label label {font-family: monospace;font-weight: bold;display: inline-block;line-height: 1.2em;}#sk-container-id-4 div.sk-label-container {text-align: center;}#sk-container-id-4 div.sk-container {/* jupyter's `normalize.less` sets `[hidden] { display: none; }` but bootstrap.min.css set `[hidden] { display: none !important; }` so we also need the `!important` here to be able to override the default hidden behavior on the sphinx rendered scikit-learn.org. See: https://github.com/scikit-learn/scikit-learn/issues/21755 */display: inline-block !important;position: relative;}#sk-container-id-4 div.sk-text-repr-fallback {display: none;}</style><div id=\"sk-container-id-4\" class=\"sk-top-container\"><div class=\"sk-text-repr-fallback\"><pre>RandomForestRegressor(max_depth=6, max_leaf_nodes=50, min_samples_split=1000,\n",
       "                      n_estimators=500, n_jobs=-1, random_state=42)</pre><b>In a Jupyter environment, please rerun this cell to show the HTML representation or trust the notebook. <br />On GitHub, the HTML representation is unable to render, please try loading this page with nbviewer.org.</b></div><div class=\"sk-container\" hidden><div class=\"sk-item\"><div class=\"sk-estimator sk-toggleable\"><input class=\"sk-toggleable__control sk-hidden--visually\" id=\"sk-estimator-id-6\" type=\"checkbox\" checked><label for=\"sk-estimator-id-6\" class=\"sk-toggleable__label sk-toggleable__label-arrow\">RandomForestRegressor</label><div class=\"sk-toggleable__content\"><pre>RandomForestRegressor(max_depth=6, max_leaf_nodes=50, min_samples_split=1000,\n",
       "                      n_estimators=500, n_jobs=-1, random_state=42)</pre></div></div></div></div></div>"
      ],
      "text/plain": [
       "RandomForestRegressor(max_depth=6, max_leaf_nodes=50, min_samples_split=1000,\n",
       "                      n_estimators=500, n_jobs=-1, random_state=42)"
      ]
     },
     "execution_count": 12,
     "metadata": {},
     "output_type": "execute_result"
    }
   ],
   "source": [
    "from sklearn.ensemble import RandomForestRegressor\n",
    "\n",
    "rf_reg = RandomForestRegressor(n_estimators = 500, max_depth = 6, max_leaf_nodes = 50, min_samples_split=1000,\n",
    "                                n_jobs = -1, random_state = 42)\n",
    "rf_reg.fit(x_train, y_train)\n"
   ]
  },
  {
   "cell_type": "code",
   "execution_count": 13,
   "id": "11c3d24c",
   "metadata": {},
   "outputs": [
    {
     "data": {
      "text/plain": [
       "0.3884812378097464"
      ]
     },
     "execution_count": 13,
     "metadata": {},
     "output_type": "execute_result"
    }
   ],
   "source": [
    "rf_reg.score(x_test, y_test)"
   ]
  },
  {
   "cell_type": "markdown",
   "id": "46ce93f9",
   "metadata": {},
   "source": [
    "El R^2 del bosque, cómo era de esperarse, es algo mejor que el R^2 del árbol individual. "
   ]
  },
  {
   "cell_type": "markdown",
   "id": "6937bfea",
   "metadata": {},
   "source": [
    "## Ejercicios \n",
    "\n",
    "1. Evaluar la performance del modelo modificando el tamaño del ensamble (cantidad del árboles en el bosque). \n",
    "2. Analizar los resultados si además de generar distintos datasets usando boostrap, se aplica boostrap en la selección de predictores (Random subspaces). "
   ]
  }
 ],
 "metadata": {
  "kernelspec": {
   "display_name": "Python 3 (ipykernel)",
   "language": "python",
   "name": "python3"
  },
  "language_info": {
   "codemirror_mode": {
    "name": "ipython",
    "version": 3
   },
   "file_extension": ".py",
   "mimetype": "text/x-python",
   "name": "python",
   "nbconvert_exporter": "python",
   "pygments_lexer": "ipython3",
   "version": "3.10.8"
  }
 },
 "nbformat": 4,
 "nbformat_minor": 5
}
