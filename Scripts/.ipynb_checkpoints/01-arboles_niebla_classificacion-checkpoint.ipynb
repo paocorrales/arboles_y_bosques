{
 "cells": [
  {
   "cell_type": "markdown",
   "id": "d545915b",
   "metadata": {},
   "source": [
    "# Arboles de decisión\n",
    "\n",
    "Esta notebook presenta un ejemplo de uso de árboles de decisión utilizando datos meteorológicos de la estación meteorológica en Ezeiza. En particular buscaremos predecir la ocurrencia de **niebla** definida como una disminución de la visibilidad menor o igual a 1 km. \n",
    "\n",
    "## Datos\n",
    "\n",
    "Los datos correspondientes a la estación Ezeiza corresponden a mediciones horarias desde 1979 de:\n",
    "\n",
    "| Nombre      | Descripción |\n",
    "| :-          | :-|\n",
    "|`dates`      | fecha y hora (ymdhm)|\n",
    "|`temperature`| temperatura en grados centígrados|\n",
    "|`dewpoint`   | temperatura de punto de rocío en grados centígrados|\n",
    "|`windspeed`  | velocidad del viento en km/h|\n",
    "|`winddir`    | dirección del viento en grados (99.0 identifica la calma)|\n",
    "|`vis`        | visibilidad en km|\n",
    "|`rh`         | humedad relativa entre 0 y 1|\n",
    "|`pressure`   | presión en hPa|\n",
    "|`undef`      | valores faltantes|"
   ]
  },
  {
   "cell_type": "code",
   "execution_count": 1,
   "id": "ff8520d1",
   "metadata": {},
   "outputs": [],
   "source": [
    "import SynopDataModule as SDM # para la lectura de los datos\n",
    "import numpy as np\n",
    "import pandas as pd\n",
    "import matplotlib.pyplot as plt\n",
    "from pathlib import Path\n",
    "\n",
    "from sklearn.tree import DecisionTreeClassifier\n",
    "from sklearn.model_selection import train_test_split\n",
    "from sklearn import tree\n",
    "from sklearn.tree import export_graphviz\n",
    "from graphviz import Source\n",
    "\n",
    "# para guardar figuras de los arboles \n",
    "IMAGES_PATH = Path() / \"images\" / \"decision_trees\"\n",
    "IMAGES_PATH.mkdir(parents=True, exist_ok=True)\n",
    "\n",
    "def save_fig(fig_id, tight_layout=True, fig_extension=\"png\", resolution=300):\n",
    "    path = IMAGES_PATH / f\"{fig_id}.{fig_extension}\"\n",
    "    if tight_layout:\n",
    "        plt.tight_layout()\n",
    "    plt.savefig(path, format=fig_extension, dpi=resolution)"
   ]
  },
  {
   "cell_type": "markdown",
   "id": "b2df85bd",
   "metadata": {},
   "source": [
    "`data` es un diccionario que incluye 'dates', 'temperature', 'dewpoint', 'windspeed', 'winddir', 'vis', 'rh', 'pressure', 'undef' (`data.keys()`). "
   ]
  },
  {
   "cell_type": "code",
   "execution_count": 2,
   "id": "ca1b580c",
   "metadata": {},
   "outputs": [],
   "source": [
    "data = SDM.read_raw_data(\"../Datos/EXP_133453_HORA.txt\")"
   ]
  },
  {
   "cell_type": "markdown",
   "id": "9e64be6c",
   "metadata": {},
   "source": [
    "## Classificación\n",
    "\n",
    "Generamos la variable target o predictando `niebla` dicotomisando la variable `vis`. Definimos niebla como visbilidad igual o menor a 1 km (`vis <= 1`), por lo tanto en nuestra variable `niebla = 1` corresponderá a un evento de niebla, `niebla = 0` será un evento de no niebla.\n",
    "\n",
    "Al calcular el porcentaje de casos de niebla respecto del total de datos, vemos que los casos niebla/no niebla están muy desvalanceados. Esto puede generar un sesgo en nuestro modelo hacia los casos de no niebla, subestimando los casos de niebla. "
   ]
  },
  {
   "cell_type": "code",
   "execution_count": 3,
   "id": "c3f6a4b5",
   "metadata": {},
   "outputs": [
    {
     "name": "stdout",
     "output_type": "stream",
     "text": [
      "Porcentaje de casos de niebla: 5.908297083020626\n"
     ]
    }
   ],
   "source": [
    "data[\"niebla\"] = (data[\"vis\"] <= 1.).astype(int)\n",
    "\n",
    "porcentaje_niebla = np.mean(data[\"niebla\"])\n",
    "print(\"Porcentaje de casos de niebla:\", porcentaje_niebla*100)"
   ]
  },
  {
   "cell_type": "markdown",
   "id": "e1579366",
   "metadata": {},
   "source": [
    "## Predictores\n",
    "\n",
    "Si bien se pueden hacer pruebas para definir la mejor combinación de predictores, inicialmente usaremos lo que sabemos sobre nieblas para definir los predictores. En este caso serán:\n",
    "\n",
    "* velocidad del viento -- poco o cero viento debería ayudar a la generación de niebla\n",
    "* humedad relativa -- valores cercanos a 100% de humedad deberían estar asociados a niebla "
   ]
  },
  {
   "cell_type": "code",
   "execution_count": 4,
   "id": "af6c9a08",
   "metadata": {},
   "outputs": [
    {
     "data": {
      "text/html": [
       "<style>#sk-container-id-1 {color: black;background-color: white;}#sk-container-id-1 pre{padding: 0;}#sk-container-id-1 div.sk-toggleable {background-color: white;}#sk-container-id-1 label.sk-toggleable__label {cursor: pointer;display: block;width: 100%;margin-bottom: 0;padding: 0.3em;box-sizing: border-box;text-align: center;}#sk-container-id-1 label.sk-toggleable__label-arrow:before {content: \"▸\";float: left;margin-right: 0.25em;color: #696969;}#sk-container-id-1 label.sk-toggleable__label-arrow:hover:before {color: black;}#sk-container-id-1 div.sk-estimator:hover label.sk-toggleable__label-arrow:before {color: black;}#sk-container-id-1 div.sk-toggleable__content {max-height: 0;max-width: 0;overflow: hidden;text-align: left;background-color: #f0f8ff;}#sk-container-id-1 div.sk-toggleable__content pre {margin: 0.2em;color: black;border-radius: 0.25em;background-color: #f0f8ff;}#sk-container-id-1 input.sk-toggleable__control:checked~div.sk-toggleable__content {max-height: 200px;max-width: 100%;overflow: auto;}#sk-container-id-1 input.sk-toggleable__control:checked~label.sk-toggleable__label-arrow:before {content: \"▾\";}#sk-container-id-1 div.sk-estimator input.sk-toggleable__control:checked~label.sk-toggleable__label {background-color: #d4ebff;}#sk-container-id-1 div.sk-label input.sk-toggleable__control:checked~label.sk-toggleable__label {background-color: #d4ebff;}#sk-container-id-1 input.sk-hidden--visually {border: 0;clip: rect(1px 1px 1px 1px);clip: rect(1px, 1px, 1px, 1px);height: 1px;margin: -1px;overflow: hidden;padding: 0;position: absolute;width: 1px;}#sk-container-id-1 div.sk-estimator {font-family: monospace;background-color: #f0f8ff;border: 1px dotted black;border-radius: 0.25em;box-sizing: border-box;margin-bottom: 0.5em;}#sk-container-id-1 div.sk-estimator:hover {background-color: #d4ebff;}#sk-container-id-1 div.sk-parallel-item::after {content: \"\";width: 100%;border-bottom: 1px solid gray;flex-grow: 1;}#sk-container-id-1 div.sk-label:hover label.sk-toggleable__label {background-color: #d4ebff;}#sk-container-id-1 div.sk-serial::before {content: \"\";position: absolute;border-left: 1px solid gray;box-sizing: border-box;top: 0;bottom: 0;left: 50%;z-index: 0;}#sk-container-id-1 div.sk-serial {display: flex;flex-direction: column;align-items: center;background-color: white;padding-right: 0.2em;padding-left: 0.2em;position: relative;}#sk-container-id-1 div.sk-item {position: relative;z-index: 1;}#sk-container-id-1 div.sk-parallel {display: flex;align-items: stretch;justify-content: center;background-color: white;position: relative;}#sk-container-id-1 div.sk-item::before, #sk-container-id-1 div.sk-parallel-item::before {content: \"\";position: absolute;border-left: 1px solid gray;box-sizing: border-box;top: 0;bottom: 0;left: 50%;z-index: -1;}#sk-container-id-1 div.sk-parallel-item {display: flex;flex-direction: column;z-index: 1;position: relative;background-color: white;}#sk-container-id-1 div.sk-parallel-item:first-child::after {align-self: flex-end;width: 50%;}#sk-container-id-1 div.sk-parallel-item:last-child::after {align-self: flex-start;width: 50%;}#sk-container-id-1 div.sk-parallel-item:only-child::after {width: 0;}#sk-container-id-1 div.sk-dashed-wrapped {border: 1px dashed gray;margin: 0 0.4em 0.5em 0.4em;box-sizing: border-box;padding-bottom: 0.4em;background-color: white;}#sk-container-id-1 div.sk-label label {font-family: monospace;font-weight: bold;display: inline-block;line-height: 1.2em;}#sk-container-id-1 div.sk-label-container {text-align: center;}#sk-container-id-1 div.sk-container {/* jupyter's `normalize.less` sets `[hidden] { display: none; }` but bootstrap.min.css set `[hidden] { display: none !important; }` so we also need the `!important` here to be able to override the default hidden behavior on the sphinx rendered scikit-learn.org. See: https://github.com/scikit-learn/scikit-learn/issues/21755 */display: inline-block !important;position: relative;}#sk-container-id-1 div.sk-text-repr-fallback {display: none;}</style><div id=\"sk-container-id-1\" class=\"sk-top-container\"><div class=\"sk-text-repr-fallback\"><pre>DecisionTreeClassifier(max_depth=2, random_state=42)</pre><b>In a Jupyter environment, please rerun this cell to show the HTML representation or trust the notebook. <br />On GitHub, the HTML representation is unable to render, please try loading this page with nbviewer.org.</b></div><div class=\"sk-container\" hidden><div class=\"sk-item\"><div class=\"sk-estimator sk-toggleable\"><input class=\"sk-toggleable__control sk-hidden--visually\" id=\"sk-estimator-id-1\" type=\"checkbox\" checked><label for=\"sk-estimator-id-1\" class=\"sk-toggleable__label sk-toggleable__label-arrow\">DecisionTreeClassifier</label><div class=\"sk-toggleable__content\"><pre>DecisionTreeClassifier(max_depth=2, random_state=42)</pre></div></div></div></div></div>"
      ],
      "text/plain": [
       "DecisionTreeClassifier(max_depth=2, random_state=42)"
      ]
     },
     "execution_count": 4,
     "metadata": {},
     "output_type": "execute_result"
    }
   ],
   "source": [
    "predictores = [\"windspeed\", \"rh\"]\n",
    "\n",
    "# los datos deben estar en arrays\n",
    "x_values = np.array([data[x] for x in predictores], dtype=object).transpose()\n",
    "y_values = data[\"niebla\"]\n",
    "\n",
    "\n",
    "# separamos los datos en entrenamiento (train) y testeo (testeo)\n",
    "x_train, x_test, y_train, y_test = train_test_split(x_values, y_values,\n",
    "                                                    test_size = 0.2,\n",
    "                                                    random_state = 42)\n",
    "\n",
    "# entrenamos el arbol usando solo los datos de entrenamiento\n",
    "## max_depth = 2 para liminar el crecimiento del árbol (y poder visualizarlo!) \n",
    "## random_state = 42 para obtener siempre el mismo árbol\n",
    "tree_niebla = DecisionTreeClassifier(max_depth = 2, random_state = 42)\n",
    "tree_niebla.fit(x_train, y_train)\n"
   ]
  },
  {
   "cell_type": "code",
   "execution_count": 5,
   "id": "d6820abc",
   "metadata": {},
   "outputs": [
    {
     "data": {
      "image/svg+xml": [
       "<?xml version=\"1.0\" encoding=\"UTF-8\" standalone=\"no\"?>\n",
       "<!DOCTYPE svg PUBLIC \"-//W3C//DTD SVG 1.1//EN\"\n",
       " \"http://www.w3.org/Graphics/SVG/1.1/DTD/svg11.dtd\">\n",
       "<!-- Generated by graphviz version 7.1.0 (20230122.1345)\n",
       " -->\n",
       "<!-- Title: Tree Pages: 1 -->\n",
       "<svg width=\"762pt\" height=\"314pt\"\n",
       " viewBox=\"0.00 0.00 762.00 314.00\" xmlns=\"http://www.w3.org/2000/svg\" xmlns:xlink=\"http://www.w3.org/1999/xlink\">\n",
       "<g id=\"graph0\" class=\"graph\" transform=\"scale(1 1) rotate(0) translate(4 310)\">\n",
       "<title>Tree</title>\n",
       "<polygon fill=\"white\" stroke=\"none\" points=\"-4,4 -4,-310 758,-310 758,4 -4,4\"/>\n",
       "<!-- 0 -->\n",
       "<g id=\"node1\" class=\"node\">\n",
       "<title>0</title>\n",
       "<path fill=\"#e78945\" stroke=\"black\" d=\"M472.5,-306C472.5,-306 302.5,-306 302.5,-306 296.5,-306 290.5,-300 290.5,-294 290.5,-294 290.5,-235 290.5,-235 290.5,-229 296.5,-223 302.5,-223 302.5,-223 472.5,-223 472.5,-223 478.5,-223 484.5,-229 484.5,-235 484.5,-235 484.5,-294 484.5,-294 484.5,-300 478.5,-306 472.5,-306\"/>\n",
       "<text text-anchor=\"middle\" x=\"387.5\" y=\"-290.8\" font-family=\"Helvetica,sans-Serif\" font-size=\"14.00\">rh &lt;= 0.964</text>\n",
       "<text text-anchor=\"middle\" x=\"387.5\" y=\"-275.8\" font-family=\"Helvetica,sans-Serif\" font-size=\"14.00\">gini = 0.111</text>\n",
       "<text text-anchor=\"middle\" x=\"387.5\" y=\"-260.8\" font-family=\"Helvetica,sans-Serif\" font-size=\"14.00\">samples = 224917</text>\n",
       "<text text-anchor=\"middle\" x=\"387.5\" y=\"-245.8\" font-family=\"Helvetica,sans-Serif\" font-size=\"14.00\">value = [211641, 13276]</text>\n",
       "<text text-anchor=\"middle\" x=\"387.5\" y=\"-230.8\" font-family=\"Helvetica,sans-Serif\" font-size=\"14.00\">class = No niebla</text>\n",
       "</g>\n",
       "<!-- 1 -->\n",
       "<g id=\"node2\" class=\"node\">\n",
       "<title>1</title>\n",
       "<path fill=\"#e68640\" stroke=\"black\" d=\"M369,-187C369,-187 208,-187 208,-187 202,-187 196,-181 196,-175 196,-175 196,-116 196,-116 196,-110 202,-104 208,-104 208,-104 369,-104 369,-104 375,-104 381,-110 381,-116 381,-116 381,-175 381,-175 381,-181 375,-187 369,-187\"/>\n",
       "<text text-anchor=\"middle\" x=\"288.5\" y=\"-171.8\" font-family=\"Helvetica,sans-Serif\" font-size=\"14.00\">rh &lt;= 0.908</text>\n",
       "<text text-anchor=\"middle\" x=\"288.5\" y=\"-156.8\" font-family=\"Helvetica,sans-Serif\" font-size=\"14.00\">gini = 0.067</text>\n",
       "<text text-anchor=\"middle\" x=\"288.5\" y=\"-141.8\" font-family=\"Helvetica,sans-Serif\" font-size=\"14.00\">samples = 208792</text>\n",
       "<text text-anchor=\"middle\" x=\"288.5\" y=\"-126.8\" font-family=\"Helvetica,sans-Serif\" font-size=\"14.00\">value = [201551, 7241]</text>\n",
       "<text text-anchor=\"middle\" x=\"288.5\" y=\"-111.8\" font-family=\"Helvetica,sans-Serif\" font-size=\"14.00\">class = No niebla</text>\n",
       "</g>\n",
       "<!-- 0&#45;&gt;1 -->\n",
       "<g id=\"edge1\" class=\"edge\">\n",
       "<title>0&#45;&gt;1</title>\n",
       "<path fill=\"none\" stroke=\"black\" d=\"M352.87,-222.58C345.6,-213.98 337.85,-204.82 330.34,-195.95\"/>\n",
       "<polygon fill=\"black\" stroke=\"black\" points=\"333.05,-193.73 323.92,-188.36 327.7,-198.25 333.05,-193.73\"/>\n",
       "<text text-anchor=\"middle\" x=\"320.86\" y=\"-208.41\" font-family=\"Helvetica,sans-Serif\" font-size=\"14.00\">True</text>\n",
       "</g>\n",
       "<!-- 4 -->\n",
       "<g id=\"node5\" class=\"node\">\n",
       "<title>4</title>\n",
       "<path fill=\"#f5ccaf\" stroke=\"black\" d=\"M563.5,-187C563.5,-187 411.5,-187 411.5,-187 405.5,-187 399.5,-181 399.5,-175 399.5,-175 399.5,-116 399.5,-116 399.5,-110 405.5,-104 411.5,-104 411.5,-104 563.5,-104 563.5,-104 569.5,-104 575.5,-110 575.5,-116 575.5,-116 575.5,-175 575.5,-175 575.5,-181 569.5,-187 563.5,-187\"/>\n",
       "<text text-anchor=\"middle\" x=\"487.5\" y=\"-171.8\" font-family=\"Helvetica,sans-Serif\" font-size=\"14.00\">windspeed &lt;= 3.5</text>\n",
       "<text text-anchor=\"middle\" x=\"487.5\" y=\"-156.8\" font-family=\"Helvetica,sans-Serif\" font-size=\"14.00\">gini = 0.468</text>\n",
       "<text text-anchor=\"middle\" x=\"487.5\" y=\"-141.8\" font-family=\"Helvetica,sans-Serif\" font-size=\"14.00\">samples = 16125</text>\n",
       "<text text-anchor=\"middle\" x=\"487.5\" y=\"-126.8\" font-family=\"Helvetica,sans-Serif\" font-size=\"14.00\">value = [10090, 6035]</text>\n",
       "<text text-anchor=\"middle\" x=\"487.5\" y=\"-111.8\" font-family=\"Helvetica,sans-Serif\" font-size=\"14.00\">class = No niebla</text>\n",
       "</g>\n",
       "<!-- 0&#45;&gt;4 -->\n",
       "<g id=\"edge4\" class=\"edge\">\n",
       "<title>0&#45;&gt;4</title>\n",
       "<path fill=\"none\" stroke=\"black\" d=\"M422.48,-222.58C429.83,-213.98 437.65,-204.82 445.24,-195.95\"/>\n",
       "<polygon fill=\"black\" stroke=\"black\" points=\"447.89,-198.23 451.73,-188.35 442.57,-193.68 447.89,-198.23\"/>\n",
       "<text text-anchor=\"middle\" x=\"454.67\" y=\"-208.42\" font-family=\"Helvetica,sans-Serif\" font-size=\"14.00\">False</text>\n",
       "</g>\n",
       "<!-- 2 -->\n",
       "<g id=\"node3\" class=\"node\">\n",
       "<title>2</title>\n",
       "<path fill=\"#e6833d\" stroke=\"black\" d=\"M173,-68C173,-68 12,-68 12,-68 6,-68 0,-62 0,-56 0,-56 0,-12 0,-12 0,-6 6,0 12,0 12,0 173,0 173,0 179,0 185,-6 185,-12 185,-12 185,-56 185,-56 185,-62 179,-68 173,-68\"/>\n",
       "<text text-anchor=\"middle\" x=\"92.5\" y=\"-52.8\" font-family=\"Helvetica,sans-Serif\" font-size=\"14.00\">gini = 0.037</text>\n",
       "<text text-anchor=\"middle\" x=\"92.5\" y=\"-37.8\" font-family=\"Helvetica,sans-Serif\" font-size=\"14.00\">samples = 176125</text>\n",
       "<text text-anchor=\"middle\" x=\"92.5\" y=\"-22.8\" font-family=\"Helvetica,sans-Serif\" font-size=\"14.00\">value = [172759, 3366]</text>\n",
       "<text text-anchor=\"middle\" x=\"92.5\" y=\"-7.8\" font-family=\"Helvetica,sans-Serif\" font-size=\"14.00\">class = No niebla</text>\n",
       "</g>\n",
       "<!-- 1&#45;&gt;2 -->\n",
       "<g id=\"edge2\" class=\"edge\">\n",
       "<title>1&#45;&gt;2</title>\n",
       "<path fill=\"none\" stroke=\"black\" d=\"M215.24,-103.57C197.88,-93.87 179.41,-83.55 162.21,-73.95\"/>\n",
       "<polygon fill=\"black\" stroke=\"black\" points=\"164.01,-70.94 153.57,-69.12 160.59,-77.05 164.01,-70.94\"/>\n",
       "</g>\n",
       "<!-- 3 -->\n",
       "<g id=\"node4\" class=\"node\">\n",
       "<title>3</title>\n",
       "<path fill=\"#e89254\" stroke=\"black\" d=\"M367.5,-68C367.5,-68 215.5,-68 215.5,-68 209.5,-68 203.5,-62 203.5,-56 203.5,-56 203.5,-12 203.5,-12 203.5,-6 209.5,0 215.5,0 215.5,0 367.5,0 367.5,0 373.5,0 379.5,-6 379.5,-12 379.5,-12 379.5,-56 379.5,-56 379.5,-62 373.5,-68 367.5,-68\"/>\n",
       "<text text-anchor=\"middle\" x=\"291.5\" y=\"-52.8\" font-family=\"Helvetica,sans-Serif\" font-size=\"14.00\">gini = 0.209</text>\n",
       "<text text-anchor=\"middle\" x=\"291.5\" y=\"-37.8\" font-family=\"Helvetica,sans-Serif\" font-size=\"14.00\">samples = 32667</text>\n",
       "<text text-anchor=\"middle\" x=\"291.5\" y=\"-22.8\" font-family=\"Helvetica,sans-Serif\" font-size=\"14.00\">value = [28792, 3875]</text>\n",
       "<text text-anchor=\"middle\" x=\"291.5\" y=\"-7.8\" font-family=\"Helvetica,sans-Serif\" font-size=\"14.00\">class = No niebla</text>\n",
       "</g>\n",
       "<!-- 1&#45;&gt;3 -->\n",
       "<g id=\"edge3\" class=\"edge\">\n",
       "<title>1&#45;&gt;3</title>\n",
       "<path fill=\"none\" stroke=\"black\" d=\"M289.62,-103.73C289.83,-95.88 290.06,-87.63 290.28,-79.67\"/>\n",
       "<polygon fill=\"black\" stroke=\"black\" points=\"293.77,-79.9 290.55,-69.81 286.77,-79.71 293.77,-79.9\"/>\n",
       "</g>\n",
       "<!-- 5 -->\n",
       "<g id=\"node6\" class=\"node\">\n",
       "<title>5</title>\n",
       "<path fill=\"#f8fbfe\" stroke=\"black\" d=\"M557,-68C557,-68 414,-68 414,-68 408,-68 402,-62 402,-56 402,-56 402,-12 402,-12 402,-6 408,0 414,0 414,0 557,0 557,0 563,0 569,-6 569,-12 569,-12 569,-56 569,-56 569,-62 563,-68 557,-68\"/>\n",
       "<text text-anchor=\"middle\" x=\"485.5\" y=\"-52.8\" font-family=\"Helvetica,sans-Serif\" font-size=\"14.00\">gini = 0.5</text>\n",
       "<text text-anchor=\"middle\" x=\"485.5\" y=\"-37.8\" font-family=\"Helvetica,sans-Serif\" font-size=\"14.00\">samples = 7391</text>\n",
       "<text text-anchor=\"middle\" x=\"485.5\" y=\"-22.8\" font-family=\"Helvetica,sans-Serif\" font-size=\"14.00\">value = [3628, 3763]</text>\n",
       "<text text-anchor=\"middle\" x=\"485.5\" y=\"-7.8\" font-family=\"Helvetica,sans-Serif\" font-size=\"14.00\">class = Niebla</text>\n",
       "</g>\n",
       "<!-- 4&#45;&gt;5 -->\n",
       "<g id=\"edge5\" class=\"edge\">\n",
       "<title>4&#45;&gt;5</title>\n",
       "<path fill=\"none\" stroke=\"black\" d=\"M486.76,-103.73C486.61,-95.88 486.46,-87.63 486.32,-79.67\"/>\n",
       "<polygon fill=\"black\" stroke=\"black\" points=\"489.82,-79.75 486.14,-69.81 482.82,-79.88 489.82,-79.75\"/>\n",
       "</g>\n",
       "<!-- 6 -->\n",
       "<g id=\"node7\" class=\"node\">\n",
       "<title>6</title>\n",
       "<path fill=\"#eead7f\" stroke=\"black\" d=\"M742,-68C742,-68 599,-68 599,-68 593,-68 587,-62 587,-56 587,-56 587,-12 587,-12 587,-6 593,0 599,0 599,0 742,0 742,0 748,0 754,-6 754,-12 754,-12 754,-56 754,-56 754,-62 748,-68 742,-68\"/>\n",
       "<text text-anchor=\"middle\" x=\"670.5\" y=\"-52.8\" font-family=\"Helvetica,sans-Serif\" font-size=\"14.00\">gini = 0.385</text>\n",
       "<text text-anchor=\"middle\" x=\"670.5\" y=\"-37.8\" font-family=\"Helvetica,sans-Serif\" font-size=\"14.00\">samples = 8734</text>\n",
       "<text text-anchor=\"middle\" x=\"670.5\" y=\"-22.8\" font-family=\"Helvetica,sans-Serif\" font-size=\"14.00\">value = [6462, 2272]</text>\n",
       "<text text-anchor=\"middle\" x=\"670.5\" y=\"-7.8\" font-family=\"Helvetica,sans-Serif\" font-size=\"14.00\">class = No niebla</text>\n",
       "</g>\n",
       "<!-- 4&#45;&gt;6 -->\n",
       "<g id=\"edge6\" class=\"edge\">\n",
       "<title>4&#45;&gt;6</title>\n",
       "<path fill=\"none\" stroke=\"black\" d=\"M555.9,-103.57C571.96,-93.96 589.03,-83.75 604.96,-74.22\"/>\n",
       "<polygon fill=\"black\" stroke=\"black\" points=\"606.63,-77.3 613.41,-69.16 603.04,-71.29 606.63,-77.3\"/>\n",
       "</g>\n",
       "</g>\n",
       "</svg>\n"
      ],
      "text/plain": [
       "<graphviz.sources.Source at 0x7fa972f9a9e0>"
      ]
     },
     "execution_count": 5,
     "metadata": {},
     "output_type": "execute_result"
    }
   ],
   "source": [
    "# también tree.plot_tree(tree_niebla)\n",
    "\n",
    "export_graphviz(\n",
    "        tree_niebla,\n",
    "        out_file = str(IMAGES_PATH / \"niebla_tree.dot\"),  \n",
    "        feature_names = predictores,\n",
    "        class_names = [\"No niebla\", \"Niebla\"],\n",
    "        rounded = True,\n",
    "        filled = True\n",
    ")\n",
    "\n",
    "Source.from_file(IMAGES_PATH / \"niebla_tree.dot\")"
   ]
  },
  {
   "cell_type": "code",
   "execution_count": 6,
   "id": "868537fd",
   "metadata": {},
   "outputs": [
    {
     "data": {
      "text/plain": [
       "<matplotlib.legend.Legend at 0x7fa975ee6bf0>"
      ]
     },
     "execution_count": 6,
     "metadata": {},
     "output_type": "execute_result"
    },
    {
     "data": {
      "image/png": "[encoded data removed]",
      "text/plain": [
       "<Figure size 600x400 with 1 Axes>"
      ]
     },
     "metadata": {},
     "output_type": "display_data"
    }
   ],
   "source": [
    "# Filtro datos faltantes en predictores\n",
    "not_missing = np.logical_and(x_train[:, 0] > -99, x_train[:, 1] > -99)\n",
    "\n",
    "plt.figure(figsize = (6, 4))\n",
    "\n",
    "for idx, (name, style) in enumerate(zip([\"No niebla\", \"Niebla\"], (\"yo\", \"bs\"))):\n",
    "    plt.plot(x_train[:, 0][not_missing][y_train[not_missing] == idx], \n",
    "             x_train[:, 1][not_missing][y_train[not_missing] == idx], style, label = f\"Tipo {name}\", markersize = 2)\n",
    "    \n",
    "th0, th1a, th1b = tree_niebla.tree_.threshold[[0, 1, 4]]\n",
    "\n",
    "plt.plot([0, 45], [th0, th0], \"r-\")\n",
    "plt.text(35, th0 - 0.05, \"Depth = 0\", verticalalignment = \"bottom\", fontsize = 10)\n",
    "plt.plot([th1a, th1a], [0, th0], \"r--\")\n",
    "plt.plot([th1b, th1b], [th0, 1], \"r--\")\n",
    "plt.text(th1a + 1, 0.06, \"Depth = 1\", verticalalignment = \"bottom\", fontsize = 10)\n",
    "plt.xlabel(\"Velocidad del viento (km/h)\")\n",
    "plt.ylabel(\"Humedad relativa\")\n",
    "plt.axis([0, 45, 0, 1])\n",
    "plt.legend()"
   ]
  },
  {
   "cell_type": "markdown",
   "id": "9720b459",
   "metadata": {},
   "source": [
    "## Predicciones\n",
    "\n",
    "Con este primer árbol podemos hacer predicciones. Por ejemplo, si tenemos la velocidad del viento (1 km/h) y humedad relativa (99.9%) pronosticada para las 6 AM podemos intentar predecir la ocurrencia de niebla con nuestro árbol.\n",
    "\n",
    "Recordemos que 1 = niebla"
   ]
  },
  {
   "cell_type": "code",
   "execution_count": null,
   "id": "ab3e6612",
   "metadata": {},
   "outputs": [],
   "source": [
    "tree_niebla.predict([[1., 0.999]])"
   ]
  },
  {
   "cell_type": "markdown",
   "id": "9d7a59c4",
   "metadata": {},
   "source": [
    "Sin embargo, es importante evaluar la precisión del modelo. Una posibilidad es comparar los valores predichos por el árbol con los valores observados. Podemos utilizar una tabla o matriz de contingencia para calcular las frecuencias relativas de los eventos.\n",
    "\n",
    "![](https://www.westgard.com/images/stories/2020-contingency-table-spanish-1.jpg)\n",
    "\n",
    "* verdaderos negativos: no se pronosticó niebla y no ocurrió\n",
    "* falsos negativos o sorpresas: no se pronosticó niebla pero se observó\n",
    "* verdaderos positivos: se pronosticó niebla y ocurrió\n",
    "* falsos positivos o alarma: se pronosticó niebla pero no se observó"
   ]
  },
  {
   "cell_type": "code",
   "execution_count": null,
   "id": "fb8cd362",
   "metadata": {},
   "outputs": [],
   "source": [
    "\n",
    "niebla_pred = tree_niebla.predict(x_test)\n",
    "\n",
    "pd.crosstab(niebla_pred, y_test, rownames = [\"Pred\"], colnames = [\"Obs\"], margins = True)\n",
    "# expresado como porcentaje respecto del total\n",
    "pd.crosstab(niebla_pred, y_test, rownames = [\"Pred\"], colnames = [\"Obs\"], normalize = \"all\")"
   ]
  },
  {
   "cell_type": "markdown",
   "id": "19e7fae7",
   "metadata": {},
   "source": [
    "Cómo era de esperarse el modelo está muy sesgado hacia los eventos de no niebla (92% de los casos) con un 4% de sospresas (subestima la ocurrencia de niebla). \n",
    "\n",
    "Otra manera de evaluar nuestro modelo es calculando el score o precisión media:"
   ]
  },
  {
   "cell_type": "code",
   "execution_count": null,
   "id": "8cd8a206",
   "metadata": {},
   "outputs": [],
   "source": [
    "tree_niebla.score(x_test, y_test)"
   ]
  },
  {
   "cell_type": "markdown",
   "id": "674ff2f4",
   "metadata": {},
   "source": [
    "## Balancenado clases\n",
    "\n",
    "Una manera de resolver el desbalance entre los eventos de no niebla y niebla es asignando pesos a cada clase (`niebla = 1`, `no niebla = 0`). Estos pesos se pueden asignar manualmente o automaticamente usando `class_weight = \"balanced\"`. En este último caso el peso de una clase es inversamente proporcional a su frecuencia:\n",
    "\n",
    "`n_samples / (n_classes * np.bincount(y))`"
   ]
  },
  {
   "cell_type": "code",
   "execution_count": null,
   "id": "d4e62dd0",
   "metadata": {},
   "outputs": [],
   "source": [
    "tree_niebla_bal = DecisionTreeClassifier(max_depth = 2, random_state = 42, class_weight = \"balanced\")\n",
    "tree_niebla_bal.fit(x_train, y_train)\n",
    "\n",
    "pd.crosstab(tree_niebla_bal.predict(x_test), y_test, \n",
    "            rownames = [\"Pred\"], colnames = [\"Obs\"], normalize = \"all\")"
   ]
  },
  {
   "cell_type": "markdown",
   "id": "c3d359d9",
   "metadata": {},
   "source": [
    "En este caso, si bien el porcentaje de falsos positivos (alarmas) aumenta de 0.2% a 17% también aumentan el porcentaje de aciertos de ocurrencia de niebla de 1.5% a 4.3% y disminuyen las sorpresas. El aumento de las alarmas podría interpretarse como perjudicial pero cuando se trata de pronosticar eventos asociados a un impacto muy grade, tal vez sea preferible a tener muchas sorpresas. "
   ]
  },
  {
   "cell_type": "code",
   "execution_count": null,
   "id": "7463c06e",
   "metadata": {},
   "outputs": [],
   "source": [
    "export_graphviz(\n",
    "        tree_niebla_bal,\n",
    "        out_file = str(IMAGES_PATH / \"niebla_tree_balanceado.dot\"),  \n",
    "        feature_names = predictores,\n",
    "        class_names = [\"No niebla\", \"Niebla\"],\n",
    "        rounded = True,\n",
    "        filled = True\n",
    ")\n",
    "\n",
    "Source.from_file(IMAGES_PATH / \"niebla_tree_balanceado.dot\")"
   ]
  }
 ],
 "metadata": {
  "kernelspec": {
   "display_name": "Python 3 (ipykernel)",
   "language": "python",
   "name": "python3"
  },
  "language_info": {
   "codemirror_mode": {
    "name": "ipython",
    "version": 3
   },
   "file_extension": ".py",
   "mimetype": "text/x-python",
   "name": "python",
   "nbconvert_exporter": "python",
   "pygments_lexer": "ipython3",
   "version": "3.10.8"
  }
 },
 "nbformat": 4,
 "nbformat_minor": 5
}
